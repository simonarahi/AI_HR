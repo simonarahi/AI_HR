{
  "nbformat": 4,
  "nbformat_minor": 0,
  "metadata": {
    "colab": {
      "name": "candidate_screening.ipynb",
      "provenance": [],
      "collapsed_sections": [],
      "authorship_tag": "ABX9TyPlqdSMSl1tUXRJ//jTArLU",
      "include_colab_link": true
    },
    "kernelspec": {
      "name": "python3",
      "display_name": "Python 3"
    }
  },
  "cells": [
    {
      "cell_type": "markdown",
      "metadata": {
        "id": "view-in-github",
        "colab_type": "text"
      },
      "source": [
        "<a href=\"https://colab.research.google.com/github/simonarahi/AI_HR/blob/master/candidate_screening.ipynb\" target=\"_parent\"><img src=\"https://colab.research.google.com/assets/colab-badge.svg\" alt=\"Open In Colab\"/></a>"
      ]
    },
    {
      "cell_type": "markdown",
      "metadata": {
        "id": "HskcaWmLse8t",
        "colab_type": "text"
      },
      "source": [
        "# **Simona Rahi**\n",
        "### ***Intern at AI Venture Labs*** \n",
        "\n",
        "# **Artificial Intelligence in Human Resources**\n",
        "\n",
        "\n",
        "\n",
        "---\n",
        "\n",
        "\n",
        "\n",
        "\n",
        "\n",
        "\n",
        "\n"
      ]
    },
    {
      "cell_type": "markdown",
      "metadata": {
        "id": "1mGcS77DtOtM",
        "colab_type": "text"
      },
      "source": [
        "\n",
        "> # **Introduction**\n",
        "\n"
      ]
    },
    {
      "cell_type": "markdown",
      "metadata": {
        "id": "yFTUCTBM4XP-",
        "colab_type": "text"
      },
      "source": [
        "  Artificial Intelligence (AI) refers to technology used to do a task that requires some level of intelligence to accomplish. The differentiators about AI are high-speed computation, huge amount of quality data, and advanced algorithms. AI has transformed the corporate world and introduced it to advanced solutions, and the Human Resouces (HR) department is no exception to this new era of intelligent transformation.\n",
        "\n",
        "  Merging AI into HR administration functions benefits and improves the overall employee experience, as it would provide more time and budget and more accurate information for decision-making. AI is fueling HR's transition from administrative to strategic to mission critical. Smarter technologies are enabling HR teams to solve critical business challenges, drive exponential performance improvements, and even impact larger business outcomes and profitability.\n",
        "\n",
        "This report is structured as follows: I start with reporting the market research conducted on the applications of AI in HR areas, then move on to the experiment that focuses on a specific area, and finally conclude with a perspective and some takeaway keypoints.\n",
        "\n",
        "---\n",
        "\n",
        "\n"
      ]
    },
    {
      "cell_type": "markdown",
      "metadata": {
        "id": "DzhKdI_HLx9Q",
        "colab_type": "text"
      },
      "source": [
        "> # **Market Research**"
      ]
    },
    {
      "cell_type": "markdown",
      "metadata": {
        "id": "adqvImMeJrkY",
        "colab_type": "text"
      },
      "source": [
        "  AI solutions are being implemented into almost all the HR functions; in this project, we identify five key problem areas that have sub-areas and talk briefly about AI implementation in each. These are:\n",
        "\n",
        "*1. Recruitment:*\n",
        "AI-centered systems have streamlined iterative tasks in the recruitment process, from lead generation to candidate sourcing and screening to interviews. With smarter solutions, HR can find better fits and the process can take less time, as it would be easier to find a match using advanced algorithms. \n",
        "\n",
        "*2. Human Capital Management:*\n",
        "As employee expectations increase, AI is helping HR teams reimagine people and talent processes to build stronger teams, reduce employee turnover, and enhance the employee experience. Some of the solutions offered optimize performance management and allows for feedback and recognition, as well as manage retention analytics to avoid talent loss. \n",
        "\n",
        "*3. Employee Engagement:*\n",
        "This area is a challenge that HR faces, which makes it essential to leverage the power of AI to connect with employees, get their feedback, and use this feedback to create a meaningful employee engagement strategy. Using sentiment analysis, AI can provide insights into the general mood of employees, their satisfaction with the workflow, and their relationships with their coworkers. \n",
        "\n",
        "*4. Employee Benefits & Payroll:*\n",
        "AI has transformed the employee benefits industry to a more simplified and personalized area, using chatbots is one example. For payroll, AI can automate paycheck anomaly detection as well as assessing and auditing payroll data.\n",
        "\n",
        "*5. Learning & Development:* \n",
        "AI helps in personalizing the corporate training and learning by capturing significant employee data from their behaviors and experience. It recommends when the employee is due for training and what courses or learning paths would be most helpful for each employee.\n",
        "\n",
        "\n",
        "\n",
        "\n",
        "---\n",
        "\n"
      ]
    },
    {
      "cell_type": "markdown",
      "metadata": {
        "id": "MlAjX4ObuYS0",
        "colab_type": "text"
      },
      "source": [
        "\n",
        "\n",
        "> # **Experiment**\n",
        "\n"
      ]
    },
    {
      "cell_type": "markdown",
      "metadata": {
        "id": "YZqvVKaMCLKe",
        "colab_type": "text"
      },
      "source": [
        "With the market research revealing the different areas and ways that AI is being implemented in HR functions, I focus in my experiment on the recruitment area of HR and specifically candidate screening. Candidate screening is crucial to the recruitment process as it needs to optimize the fit and future performance of the candidate.\n",
        "\n",
        "Using supervised learning, I attempt to classify the performance of employees based on a several given features including the position, department, payrate, hiring source, sex, race, etc...\n",
        "To achieve that, I use 5 different classification models and compare their performance metrics to choose the most accurate one.\n",
        "The goal is to be able to build a model that can predict, to an extent, employee performance based on given data.\n",
        "\n",
        "This section will cover all the steps of the experiment, including the code and the results. "
      ]
    },
    {
      "cell_type": "markdown",
      "metadata": {
        "id": "vL4Yq4wNT70f",
        "colab_type": "text"
      },
      "source": [
        "## Loading Libraries"
      ]
    },
    {
      "cell_type": "code",
      "metadata": {
        "id": "zeOIBYq2Y6QI",
        "colab_type": "code",
        "colab": {}
      },
      "source": [
        "import warnings\n",
        "warnings.filterwarnings('ignore')\n",
        "%matplotlib inline\n",
        "\n",
        "import io\n",
        "import pandas as pd\n",
        "import matplotlib.pyplot as plt\n",
        "import numpy as np \n",
        "import seaborn as sns\n",
        "import sklearn\n",
        "\n",
        "from sklearn import metrics\n",
        "from sklearn import datasets, linear_model\n",
        "from sklearn import preprocessing\n",
        "from sklearn.metrics import accuracy_score\n",
        "from sklearn.metrics import precision_recall_fscore_support as score\n",
        "from sklearn.metrics import mean_squared_error, r2_score\n",
        "from sklearn.metrics import explained_variance_score\n",
        "from sklearn.metrics import mean_absolute_error\n",
        "from sklearn.metrics import confusion_matrix\n",
        "from sklearn.model_selection import train_test_split\n",
        "\n",
        "from sklearn.datasets import make_classification\n",
        "import statsmodels.formula.api as smf\n",
        "\n",
        "from time import time\n",
        "\n",
        "from sklearn.neighbors import KNeighborsRegressor\n",
        "from sklearn.linear_model import LinearRegression, RANSACRegressor\n",
        "from sklearn.gaussian_process import GaussianProcessRegressor\n",
        "from sklearn.svm import SVR\n",
        "from sklearn.svm import SVC \n",
        "from sklearn.svm import LinearSVR\n",
        "from sklearn.linear_model import Lasso, Ridge\n",
        "from sklearn.naive_bayes import GaussianNB\n",
        "from sklearn.neighbors import KNeighborsClassifier\n",
        "from sklearn.tree import DecisionTreeRegressor\n",
        "from sklearn.ensemble import RandomForestClassifier\n",
        "from sklearn.ensemble import RandomForestRegressor\n",
        "\n",
        "from pylab import rcParams\n",
        "import seaborn as sb\n",
        "\n",
        "from imblearn.over_sampling import SMOTE"
      ],
      "execution_count": null,
      "outputs": []
    },
    {
      "cell_type": "markdown",
      "metadata": {
        "id": "P78RbeQGZF6J",
        "colab_type": "text"
      },
      "source": [
        "## Loading Data Set"
      ]
    },
    {
      "cell_type": "markdown",
      "metadata": {
        "id": "k-rMezJPtmNu",
        "colab_type": "text"
      },
      "source": [
        "HR data that is available is hard to come across, so the dataset used is from [Kaggle](https://www.kaggle.com/rhuebner/human-resources-data-set) and it is a synthetic dataset designed by Drs. Rich Huebner and Carla Patalano to accompany a case study designed for graduate HR students studying HR metrics, measurement, and analytics.\n",
        "\n",
        "The data revolves around a fictitious company, called Dental Magic, and it contains several features that we will explore below.\n",
        "\n",
        "To import the data to google colab from a local drive, I use the two lines of code below, then I read the data into a pandas dataframe."
      ]
    },
    {
      "cell_type": "code",
      "metadata": {
        "id": "1pSFv_KoSyTv",
        "colab_type": "code",
        "colab": {
          "resources": {
            "http://localhost:8080/nbextensions/google.colab/files.js": {
              "data": "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",
              "ok": true,
              "headers": [
                [
                  "content-type",
                  "application/javascript"
                ]
              ],
              "status": 200,
              "status_text": ""
            }
          },
          "base_uri": "https://localhost:8080/",
          "height": 72
        },
        "outputId": "669a2552-cf6d-422d-bec0-9bd59465645f"
      },
      "source": [
        "from google.colab import files\n",
        "uploaded = files.upload()"
      ],
      "execution_count": null,
      "outputs": [
        {
          "output_type": "display_data",
          "data": {
            "text/html": [
              "\n",
              "     <input type=\"file\" id=\"files-f89a1dfb-2244-41ab-bf8d-41fdebb3957f\" name=\"files[]\" multiple disabled\n",
              "        style=\"border:none\" />\n",
              "     <output id=\"result-f89a1dfb-2244-41ab-bf8d-41fdebb3957f\">\n",
              "      Upload widget is only available when the cell has been executed in the\n",
              "      current browser session. Please rerun this cell to enable.\n",
              "      </output>\n",
              "      <script src=\"/nbextensions/google.colab/files.js\"></script> "
            ],
            "text/plain": [
              "<IPython.core.display.HTML object>"
            ]
          },
          "metadata": {
            "tags": []
          }
        },
        {
          "output_type": "stream",
          "text": [
            "Saving HR_dataset.csv to HR_dataset.csv\n"
          ],
          "name": "stdout"
        }
      ]
    },
    {
      "cell_type": "code",
      "metadata": {
        "id": "KkM4pK4HTfnc",
        "colab_type": "code",
        "colab": {}
      },
      "source": [
        "HR = pd.read_csv(io.BytesIO(uploaded['HR_dataset.csv']))"
      ],
      "execution_count": null,
      "outputs": []
    },
    {
      "cell_type": "markdown",
      "metadata": {
        "id": "o1KxkCSl914U",
        "colab_type": "text"
      },
      "source": [
        "Let's take a look at the first 5 rows of our dataset."
      ]
    },
    {
      "cell_type": "code",
      "metadata": {
        "id": "2OAgQfOFTwJJ",
        "colab_type": "code",
        "colab": {
          "base_uri": "https://localhost:8080/",
          "height": 343
        },
        "outputId": "5a09342e-08ad-4d3b-c508-f20a37439176"
      },
      "source": [
        "HR.head()"
      ],
      "execution_count": null,
      "outputs": [
        {
          "output_type": "execute_result",
          "data": {
            "text/html": [
              "<div>\n",
              "<style scoped>\n",
              "    .dataframe tbody tr th:only-of-type {\n",
              "        vertical-align: middle;\n",
              "    }\n",
              "\n",
              "    .dataframe tbody tr th {\n",
              "        vertical-align: top;\n",
              "    }\n",
              "\n",
              "    .dataframe thead th {\n",
              "        text-align: right;\n",
              "    }\n",
              "</style>\n",
              "<table border=\"1\" class=\"dataframe\">\n",
              "  <thead>\n",
              "    <tr style=\"text-align: right;\">\n",
              "      <th></th>\n",
              "      <th>Employee_Name</th>\n",
              "      <th>EmpID</th>\n",
              "      <th>MarriedID</th>\n",
              "      <th>MaritalStatusID</th>\n",
              "      <th>GenderID</th>\n",
              "      <th>EmpStatusID</th>\n",
              "      <th>DeptID</th>\n",
              "      <th>PerfScoreID</th>\n",
              "      <th>FromDiversityJobFairID</th>\n",
              "      <th>PayRate</th>\n",
              "      <th>Termd</th>\n",
              "      <th>PositionID</th>\n",
              "      <th>Position</th>\n",
              "      <th>State</th>\n",
              "      <th>Zip</th>\n",
              "      <th>DOB</th>\n",
              "      <th>Sex</th>\n",
              "      <th>MaritalDesc</th>\n",
              "      <th>CitizenDesc</th>\n",
              "      <th>HispanicLatino</th>\n",
              "      <th>RaceDesc</th>\n",
              "      <th>DateofHire</th>\n",
              "      <th>DateofTermination</th>\n",
              "      <th>TermReason</th>\n",
              "      <th>EmploymentStatus</th>\n",
              "      <th>Department</th>\n",
              "      <th>ManagerName</th>\n",
              "      <th>ManagerID</th>\n",
              "      <th>RecruitmentSource</th>\n",
              "      <th>PerformanceScore</th>\n",
              "      <th>EngagementSurvey</th>\n",
              "      <th>EmpSatisfaction</th>\n",
              "      <th>SpecialProjectsCount</th>\n",
              "      <th>LastPerformanceReview_Date</th>\n",
              "      <th>DaysLateLast30</th>\n",
              "    </tr>\n",
              "  </thead>\n",
              "  <tbody>\n",
              "    <tr>\n",
              "      <th>0</th>\n",
              "      <td>Brown, Mia</td>\n",
              "      <td>1.103024e+09</td>\n",
              "      <td>1.0</td>\n",
              "      <td>1.0</td>\n",
              "      <td>0.0</td>\n",
              "      <td>1.0</td>\n",
              "      <td>1.0</td>\n",
              "      <td>3.0</td>\n",
              "      <td>1.0</td>\n",
              "      <td>28.50</td>\n",
              "      <td>0.0</td>\n",
              "      <td>1.0</td>\n",
              "      <td>Accountant I</td>\n",
              "      <td>MA</td>\n",
              "      <td>1450.0</td>\n",
              "      <td>11/24/87</td>\n",
              "      <td>F</td>\n",
              "      <td>Married</td>\n",
              "      <td>US Citizen</td>\n",
              "      <td>No</td>\n",
              "      <td>Black or African American</td>\n",
              "      <td>10/27/2008</td>\n",
              "      <td>NaN</td>\n",
              "      <td>N/A - still employed</td>\n",
              "      <td>Active</td>\n",
              "      <td>Admin Offices</td>\n",
              "      <td>Brandon R. LeBlanc</td>\n",
              "      <td>1.0</td>\n",
              "      <td>Diversity Job Fair</td>\n",
              "      <td>Fully Meets</td>\n",
              "      <td>2.04</td>\n",
              "      <td>2.0</td>\n",
              "      <td>6.0</td>\n",
              "      <td>1/15/2019</td>\n",
              "      <td>0.0</td>\n",
              "    </tr>\n",
              "    <tr>\n",
              "      <th>1</th>\n",
              "      <td>LaRotonda, William</td>\n",
              "      <td>1.106027e+09</td>\n",
              "      <td>0.0</td>\n",
              "      <td>2.0</td>\n",
              "      <td>1.0</td>\n",
              "      <td>1.0</td>\n",
              "      <td>1.0</td>\n",
              "      <td>3.0</td>\n",
              "      <td>0.0</td>\n",
              "      <td>23.00</td>\n",
              "      <td>0.0</td>\n",
              "      <td>1.0</td>\n",
              "      <td>Accountant I</td>\n",
              "      <td>MA</td>\n",
              "      <td>1460.0</td>\n",
              "      <td>04/26/84</td>\n",
              "      <td>M</td>\n",
              "      <td>Divorced</td>\n",
              "      <td>US Citizen</td>\n",
              "      <td>No</td>\n",
              "      <td>Black or African American</td>\n",
              "      <td>1/6/2014</td>\n",
              "      <td>NaN</td>\n",
              "      <td>N/A - still employed</td>\n",
              "      <td>Active</td>\n",
              "      <td>Admin Offices</td>\n",
              "      <td>Brandon R. LeBlanc</td>\n",
              "      <td>1.0</td>\n",
              "      <td>Website Banner Ads</td>\n",
              "      <td>Fully Meets</td>\n",
              "      <td>5.00</td>\n",
              "      <td>4.0</td>\n",
              "      <td>4.0</td>\n",
              "      <td>1/17/2019</td>\n",
              "      <td>0.0</td>\n",
              "    </tr>\n",
              "    <tr>\n",
              "      <th>2</th>\n",
              "      <td>Steans, Tyrone</td>\n",
              "      <td>1.302053e+09</td>\n",
              "      <td>0.0</td>\n",
              "      <td>0.0</td>\n",
              "      <td>1.0</td>\n",
              "      <td>1.0</td>\n",
              "      <td>1.0</td>\n",
              "      <td>3.0</td>\n",
              "      <td>0.0</td>\n",
              "      <td>29.00</td>\n",
              "      <td>0.0</td>\n",
              "      <td>1.0</td>\n",
              "      <td>Accountant I</td>\n",
              "      <td>MA</td>\n",
              "      <td>2703.0</td>\n",
              "      <td>09/01/86</td>\n",
              "      <td>M</td>\n",
              "      <td>Single</td>\n",
              "      <td>US Citizen</td>\n",
              "      <td>No</td>\n",
              "      <td>White</td>\n",
              "      <td>9/29/2014</td>\n",
              "      <td>NaN</td>\n",
              "      <td>N/A - still employed</td>\n",
              "      <td>Active</td>\n",
              "      <td>Admin Offices</td>\n",
              "      <td>Brandon R. LeBlanc</td>\n",
              "      <td>1.0</td>\n",
              "      <td>Internet Search</td>\n",
              "      <td>Fully Meets</td>\n",
              "      <td>3.90</td>\n",
              "      <td>5.0</td>\n",
              "      <td>5.0</td>\n",
              "      <td>1/18/2019</td>\n",
              "      <td>0.0</td>\n",
              "    </tr>\n",
              "    <tr>\n",
              "      <th>3</th>\n",
              "      <td>Howard, Estelle</td>\n",
              "      <td>1.211051e+09</td>\n",
              "      <td>1.0</td>\n",
              "      <td>1.0</td>\n",
              "      <td>0.0</td>\n",
              "      <td>1.0</td>\n",
              "      <td>1.0</td>\n",
              "      <td>3.0</td>\n",
              "      <td>0.0</td>\n",
              "      <td>21.50</td>\n",
              "      <td>1.0</td>\n",
              "      <td>2.0</td>\n",
              "      <td>Administrative Assistant</td>\n",
              "      <td>MA</td>\n",
              "      <td>2170.0</td>\n",
              "      <td>09/16/85</td>\n",
              "      <td>F</td>\n",
              "      <td>Married</td>\n",
              "      <td>US Citizen</td>\n",
              "      <td>No</td>\n",
              "      <td>White</td>\n",
              "      <td>2/16/2015</td>\n",
              "      <td>04/15/15</td>\n",
              "      <td>NaN</td>\n",
              "      <td>Terminated for Cause</td>\n",
              "      <td>Admin Offices</td>\n",
              "      <td>Brandon R. LeBlanc</td>\n",
              "      <td>1.0</td>\n",
              "      <td>Pay Per Click - Google</td>\n",
              "      <td>Fully Meets</td>\n",
              "      <td>3.24</td>\n",
              "      <td>3.0</td>\n",
              "      <td>4.0</td>\n",
              "      <td>NaN</td>\n",
              "      <td>NaN</td>\n",
              "    </tr>\n",
              "    <tr>\n",
              "      <th>4</th>\n",
              "      <td>Singh, Nan</td>\n",
              "      <td>1.307060e+09</td>\n",
              "      <td>0.0</td>\n",
              "      <td>0.0</td>\n",
              "      <td>0.0</td>\n",
              "      <td>1.0</td>\n",
              "      <td>1.0</td>\n",
              "      <td>3.0</td>\n",
              "      <td>0.0</td>\n",
              "      <td>16.56</td>\n",
              "      <td>0.0</td>\n",
              "      <td>2.0</td>\n",
              "      <td>Administrative Assistant</td>\n",
              "      <td>MA</td>\n",
              "      <td>2330.0</td>\n",
              "      <td>05/19/88</td>\n",
              "      <td>F</td>\n",
              "      <td>Single</td>\n",
              "      <td>US Citizen</td>\n",
              "      <td>No</td>\n",
              "      <td>White</td>\n",
              "      <td>5/1/2015</td>\n",
              "      <td>NaN</td>\n",
              "      <td>N/A - still employed</td>\n",
              "      <td>Active</td>\n",
              "      <td>Admin Offices</td>\n",
              "      <td>Brandon R. LeBlanc</td>\n",
              "      <td>1.0</td>\n",
              "      <td>Website Banner Ads</td>\n",
              "      <td>Fully Meets</td>\n",
              "      <td>5.00</td>\n",
              "      <td>3.0</td>\n",
              "      <td>5.0</td>\n",
              "      <td>1/15/2019</td>\n",
              "      <td>0.0</td>\n",
              "    </tr>\n",
              "  </tbody>\n",
              "</table>\n",
              "</div>"
            ],
            "text/plain": [
              "          Employee_Name  ...  DaysLateLast30\n",
              "0            Brown, Mia  ...             0.0\n",
              "1  LaRotonda, William    ...             0.0\n",
              "2      Steans, Tyrone    ...             0.0\n",
              "3       Howard, Estelle  ...             NaN\n",
              "4           Singh, Nan   ...             0.0\n",
              "\n",
              "[5 rows x 35 columns]"
            ]
          },
          "metadata": {
            "tags": []
          },
          "execution_count": 4
        }
      ]
    },
    {
      "cell_type": "markdown",
      "metadata": {
        "id": "xgsug-gnO-4e",
        "colab_type": "text"
      },
      "source": [
        "## Data Exploration"
      ]
    },
    {
      "cell_type": "markdown",
      "metadata": {
        "id": "k7PIRT2G-D8j",
        "colab_type": "text"
      },
      "source": [
        "It is important to explore the data at hand to know how to handle it. First we look at the columns we have and the type of data they contain, as well as the number of observations. "
      ]
    },
    {
      "cell_type": "markdown",
      "metadata": {
        "id": "Nmj6rWRK-hlJ",
        "colab_type": "text"
      },
      "source": [
        "We have a total of 35 columns/features, with two different types: float64 and object. The total number of observations is 401. As we can see, all columns contain null values (none of them has 401 non-null) that we will deal with later.\n",
        "\n",
        "One column we focus on is \"Performance Score\" which is a categorical variable of 4 levels in decreasing order: Exceeds, Fully Meets, Needs Improvement, and PIP (performance improvement plan)."
      ]
    },
    {
      "cell_type": "code",
      "metadata": {
        "id": "GOZ7lRjiPCuE",
        "colab_type": "code",
        "colab": {
          "base_uri": "https://localhost:8080/",
          "height": 731
        },
        "outputId": "e02d9a78-1a38-4b47-e0fb-661eb799b796"
      },
      "source": [
        "HR.info()"
      ],
      "execution_count": null,
      "outputs": [
        {
          "output_type": "stream",
          "text": [
            "<class 'pandas.core.frame.DataFrame'>\n",
            "RangeIndex: 401 entries, 0 to 400\n",
            "Data columns (total 35 columns):\n",
            " #   Column                      Non-Null Count  Dtype  \n",
            "---  ------                      --------------  -----  \n",
            " 0   Employee_Name               310 non-null    object \n",
            " 1   EmpID                       310 non-null    float64\n",
            " 2   MarriedID                   310 non-null    float64\n",
            " 3   MaritalStatusID             310 non-null    float64\n",
            " 4   GenderID                    310 non-null    float64\n",
            " 5   EmpStatusID                 310 non-null    float64\n",
            " 6   DeptID                      310 non-null    float64\n",
            " 7   PerfScoreID                 310 non-null    float64\n",
            " 8   FromDiversityJobFairID      310 non-null    float64\n",
            " 9   PayRate                     310 non-null    float64\n",
            " 10  Termd                       310 non-null    float64\n",
            " 11  PositionID                  310 non-null    float64\n",
            " 12  Position                    310 non-null    object \n",
            " 13  State                       310 non-null    object \n",
            " 14  Zip                         310 non-null    float64\n",
            " 15  DOB                         310 non-null    object \n",
            " 16  Sex                         310 non-null    object \n",
            " 17  MaritalDesc                 310 non-null    object \n",
            " 18  CitizenDesc                 310 non-null    object \n",
            " 19  HispanicLatino              310 non-null    object \n",
            " 20  RaceDesc                    310 non-null    object \n",
            " 21  DateofHire                  310 non-null    object \n",
            " 22  DateofTermination           103 non-null    object \n",
            " 23  TermReason                  309 non-null    object \n",
            " 24  EmploymentStatus            310 non-null    object \n",
            " 25  Department                  310 non-null    object \n",
            " 26  ManagerName                 310 non-null    object \n",
            " 27  ManagerID                   302 non-null    float64\n",
            " 28  RecruitmentSource           310 non-null    object \n",
            " 29  PerformanceScore            310 non-null    object \n",
            " 30  EngagementSurvey            310 non-null    float64\n",
            " 31  EmpSatisfaction             310 non-null    float64\n",
            " 32  SpecialProjectsCount        310 non-null    float64\n",
            " 33  LastPerformanceReview_Date  207 non-null    object \n",
            " 34  DaysLateLast30              207 non-null    float64\n",
            "dtypes: float64(17), object(18)\n",
            "memory usage: 109.8+ KB\n"
          ],
          "name": "stdout"
        }
      ]
    },
    {
      "cell_type": "markdown",
      "metadata": {
        "id": "xYJ8zMxZABi2",
        "colab_type": "text"
      },
      "source": [
        "Now let's look at some information revealed from our data. First, we plot the average payrate for Female vs Male. The graph shows around $5 higher average pay for Males."
      ]
    },
    {
      "cell_type": "code",
      "metadata": {
        "id": "DOtSkqFYdY8U",
        "colab_type": "code",
        "colab": {
          "base_uri": "https://localhost:8080/",
          "height": 300
        },
        "outputId": "16f2483f-ecd8-4243-988b-32a26d0884d3"
      },
      "source": [
        "plot1 = HR.groupby(['Sex']).mean().PayRate.plot(kind='bar')\n",
        "plot1.set_ylabel(\"Avg Pay Rate\")"
      ],
      "execution_count": null,
      "outputs": [
        {
          "output_type": "execute_result",
          "data": {
            "text/plain": [
              "Text(0, 0.5, 'Avg Pay Rate')"
            ]
          },
          "metadata": {
            "tags": []
          },
          "execution_count": 6
        },
        {
          "output_type": "display_data",
          "data": {
            "image/png": "[encoded data removed]",
            "text/plain": [
              "<Figure size 432x288 with 1 Axes>"
            ]
          },
          "metadata": {
            "tags": [],
            "needs_background": "light"
          }
        }
      ]
    },
    {
      "cell_type": "markdown",
      "metadata": {
        "id": "XNaEZi6DAbf6",
        "colab_type": "text"
      },
      "source": [
        "Another thing to look at is our column of interest: Performance Score. The barplot shows the distribution of performance scores for males vs females. First thing to note is that the number of females is higher than males, as the height of the bar is higher for females. A second thing is that the distribution is about the same, where we see that the largest category of performance is \"fully meets\", followed by \"exceeds\"."
      ]
    },
    {
      "cell_type": "code",
      "metadata": {
        "id": "vAo9Ud5xdyB-",
        "colab_type": "code",
        "colab": {
          "base_uri": "https://localhost:8080/",
          "height": 624
        },
        "outputId": "aaab89d0-eac0-423e-c75f-91daa38df454"
      },
      "source": [
        "HR.groupby(['Sex', 'PerformanceScore']).size().unstack().plot(kind='bar', stacked=True, figsize=(10,10))\n"
      ],
      "execution_count": null,
      "outputs": [
        {
          "output_type": "execute_result",
          "data": {
            "text/plain": [
              "<matplotlib.axes._subplots.AxesSubplot at 0x7f18c7da0860>"
            ]
          },
          "metadata": {
            "tags": []
          },
          "execution_count": 7
        },
        {
          "output_type": "display_data",
          "data": {
            "image/png": "[encoded data removed]",
            "text/plain": [
              "<Figure size 720x720 with 1 Axes>"
            ]
          },
          "metadata": {
            "tags": [],
            "needs_background": "light"
          }
        }
      ]
    },
    {
      "cell_type": "markdown",
      "metadata": {
        "id": "cZamAcUNDLLr",
        "colab_type": "text"
      },
      "source": [
        "\n",
        "\n",
        "\n",
        "Looking at performance scores regardless of gender, the graph below shows the counts of instances per class. As seen before, the largest class is \"Fully Meets\", with a much higher count than the rest of the classes combined. This could be an indication of an imbalanced dataset which we'll deal with later too.\n"
      ]
    },
    {
      "cell_type": "code",
      "metadata": {
        "id": "qzrtNxuH0Reh",
        "colab_type": "code",
        "colab": {
          "base_uri": "https://localhost:8080/",
          "height": 373
        },
        "outputId": "7d7bbcc2-e01d-4f07-9a94-e02bf6da678e"
      },
      "source": [
        "HR['PerformanceScore'].value_counts().plot(kind='bar')"
      ],
      "execution_count": null,
      "outputs": [
        {
          "output_type": "execute_result",
          "data": {
            "text/plain": [
              "<matplotlib.axes._subplots.AxesSubplot at 0x7f18c76c2668>"
            ]
          },
          "metadata": {
            "tags": []
          },
          "execution_count": 8
        },
        {
          "output_type": "display_data",
          "data": {
            "image/png": "[encoded data removed]",
            "text/plain": [
              "<Figure size 432x288 with 1 Axes>"
            ]
          },
          "metadata": {
            "tags": [],
            "needs_background": "light"
          }
        }
      ]
    },
    {
      "cell_type": "markdown",
      "metadata": {
        "id": "iJIJD2YDFe9J",
        "colab_type": "text"
      },
      "source": [
        "The quantitative variables that we have in the dataset are: payrate, engagement survey, employee satisfaction, and special project counts. Therefore, I get the pairwise relationships between them to check if there are any strong correlations. All correlations are small (less than 0.5) but reveal some interesting directions. On average, employees with higher payrates reported higher satisfaction, but a higher payrate is associated with a lower engagement."
      ]
    },
    {
      "cell_type": "code",
      "metadata": {
        "id": "7w8vNYNZ1nJq",
        "colab_type": "code",
        "colab": {
          "base_uri": "https://localhost:8080/",
          "height": 142
        },
        "outputId": "cf95161b-04be-4586-eefb-c8a032d09580"
      },
      "source": [
        "HRquant = HR.filter(['PayRate','EngagementSurvey','EmpSatisfaction', 'SpecialProjectCounts'], axis=1)\n",
        "HRquant.corr()"
      ],
      "execution_count": null,
      "outputs": [
        {
          "output_type": "execute_result",
          "data": {
            "text/html": [
              "<div>\n",
              "<style scoped>\n",
              "    .dataframe tbody tr th:only-of-type {\n",
              "        vertical-align: middle;\n",
              "    }\n",
              "\n",
              "    .dataframe tbody tr th {\n",
              "        vertical-align: top;\n",
              "    }\n",
              "\n",
              "    .dataframe thead th {\n",
              "        text-align: right;\n",
              "    }\n",
              "</style>\n",
              "<table border=\"1\" class=\"dataframe\">\n",
              "  <thead>\n",
              "    <tr style=\"text-align: right;\">\n",
              "      <th></th>\n",
              "      <th>PayRate</th>\n",
              "      <th>EngagementSurvey</th>\n",
              "      <th>EmpSatisfaction</th>\n",
              "    </tr>\n",
              "  </thead>\n",
              "  <tbody>\n",
              "    <tr>\n",
              "      <th>PayRate</th>\n",
              "      <td>1.000000</td>\n",
              "      <td>-0.024223</td>\n",
              "      <td>0.061525</td>\n",
              "    </tr>\n",
              "    <tr>\n",
              "      <th>EngagementSurvey</th>\n",
              "      <td>-0.024223</td>\n",
              "      <td>1.000000</td>\n",
              "      <td>-0.017123</td>\n",
              "    </tr>\n",
              "    <tr>\n",
              "      <th>EmpSatisfaction</th>\n",
              "      <td>0.061525</td>\n",
              "      <td>-0.017123</td>\n",
              "      <td>1.000000</td>\n",
              "    </tr>\n",
              "  </tbody>\n",
              "</table>\n",
              "</div>"
            ],
            "text/plain": [
              "                   PayRate  EngagementSurvey  EmpSatisfaction\n",
              "PayRate           1.000000         -0.024223         0.061525\n",
              "EngagementSurvey -0.024223          1.000000        -0.017123\n",
              "EmpSatisfaction   0.061525         -0.017123         1.000000"
            ]
          },
          "metadata": {
            "tags": []
          },
          "execution_count": 9
        }
      ]
    },
    {
      "cell_type": "markdown",
      "metadata": {
        "id": "bim7RdAHELf2",
        "colab_type": "text"
      },
      "source": [
        "## Data Preprocessing"
      ]
    },
    {
      "cell_type": "markdown",
      "metadata": {
        "id": "Qfi6d43dHQzF",
        "colab_type": "text"
      },
      "source": [
        "In this section, I prepare the data for the classification models and perform any necessary cleaning."
      ]
    },
    {
      "cell_type": "markdown",
      "metadata": {
        "id": "B4qXVkljTmH3",
        "colab_type": "text"
      },
      "source": [
        "I start by dropping the columns that will not be relevant to the model (zip code, state, manager name, ...) or that are repetetive. I drop \"Performance Score\" and keep the column PerfScoreID which is the code that matches the employee’s most recent performance score. "
      ]
    },
    {
      "cell_type": "code",
      "metadata": {
        "id": "0xBL1MUTFRRM",
        "colab_type": "code",
        "colab": {}
      },
      "source": [
        "HR = pd.read_csv(io.BytesIO(uploaded['HR_dataset.csv']))"
      ],
      "execution_count": null,
      "outputs": []
    },
    {
      "cell_type": "code",
      "metadata": {
        "id": "-jbHfTJWEQC9",
        "colab_type": "code",
        "colab": {}
      },
      "source": [
        "HR.drop(columns=['GenderID', 'Employee_Name', 'EmpID', 'MarriedID', 'MaritalStatusID',\n",
        "                 'EmpStatusID','DeptID', 'PositionID', 'DOB','State', 'Zip', 'CitizenDesc', \n",
        "                 'HispanicLatino', 'DateofHire', 'DateofTermination', 'TermReason', \n",
        "                 'ManagerName', 'ManagerID', 'LastPerformanceReview_Date', \n",
        "                 'DaysLateLast30', 'PerformanceScore'], inplace=True)"
      ],
      "execution_count": null,
      "outputs": []
    },
    {
      "cell_type": "markdown",
      "metadata": {
        "id": "KVJkY1kUVRr2",
        "colab_type": "text"
      },
      "source": [
        "Regarding the missing values, I plot the count of missing values for our remaining columns, and we can see that they all have the same count of 91 missing values. The NAs are dropped."
      ]
    },
    {
      "cell_type": "code",
      "metadata": {
        "id": "NbK-nv92zFa4",
        "colab_type": "code",
        "colab": {
          "base_uri": "https://localhost:8080/",
          "height": 401
        },
        "outputId": "d7aa140f-445b-4b0a-c3aa-31e3fe487b36"
      },
      "source": [
        "plt.figure(figsize=(12,4))\n",
        "sns.heatmap(HR.isnull(),cbar=False,cmap='viridis',yticklabels=False)\n",
        "plt.title('Missing values in the dataset')"
      ],
      "execution_count": null,
      "outputs": [
        {
          "output_type": "execute_result",
          "data": {
            "text/plain": [
              "Text(0.5, 1.0, 'Missing values in the dataset')"
            ]
          },
          "metadata": {
            "tags": []
          },
          "execution_count": 40
        },
        {
          "output_type": "display_data",
          "data": {
            "image/png": "[encoded data removed]",
            "text/plain": [
              "<Figure size 864x288 with 1 Axes>"
            ]
          },
          "metadata": {
            "tags": [],
            "needs_background": "light"
          }
        }
      ]
    },
    {
      "cell_type": "code",
      "metadata": {
        "id": "B7FeE4XfEaUD",
        "colab_type": "code",
        "colab": {
          "base_uri": "https://localhost:8080/",
          "height": 374
        },
        "outputId": "6bff2292-a587-45e9-a247-10f3ad63c16d"
      },
      "source": [
        "HR.info()\n",
        "HR.dropna(inplace=True)"
      ],
      "execution_count": null,
      "outputs": [
        {
          "output_type": "stream",
          "text": [
            "<class 'pandas.core.frame.DataFrame'>\n",
            "RangeIndex: 401 entries, 0 to 400\n",
            "Data columns (total 14 columns):\n",
            " #   Column                  Non-Null Count  Dtype  \n",
            "---  ------                  --------------  -----  \n",
            " 0   PerfScoreID             310 non-null    float64\n",
            " 1   FromDiversityJobFairID  310 non-null    float64\n",
            " 2   PayRate                 310 non-null    float64\n",
            " 3   Termd                   310 non-null    float64\n",
            " 4   Position                310 non-null    object \n",
            " 5   Sex                     310 non-null    object \n",
            " 6   MaritalDesc             310 non-null    object \n",
            " 7   RaceDesc                310 non-null    object \n",
            " 8   EmploymentStatus        310 non-null    object \n",
            " 9   Department              310 non-null    object \n",
            " 10  RecruitmentSource       310 non-null    object \n",
            " 11  EngagementSurvey        310 non-null    float64\n",
            " 12  EmpSatisfaction         310 non-null    float64\n",
            " 13  SpecialProjectsCount    310 non-null    float64\n",
            "dtypes: float64(7), object(7)\n",
            "memory usage: 44.0+ KB\n"
          ],
          "name": "stdout"
        }
      ]
    },
    {
      "cell_type": "markdown",
      "metadata": {
        "id": "wlpYZ5byW-Wo",
        "colab_type": "text"
      },
      "source": [
        "To deal with the categorical nominal variables, I encode them using \"get_dummies\" from pandas, which creates dummy variables from them. Now we end up with a total of 86 columns/features."
      ]
    },
    {
      "cell_type": "code",
      "metadata": {
        "id": "UHdSZP24Efxv",
        "colab_type": "code",
        "colab": {}
      },
      "source": [
        "HR1 = pd.get_dummies(HR, columns=['Sex', 'Position', 'MaritalDesc', 'RaceDesc',\n",
        "                                 'EmploymentStatus', 'Department', 'RecruitmentSource'])"
      ],
      "execution_count": null,
      "outputs": []
    },
    {
      "cell_type": "markdown",
      "metadata": {
        "id": "DAUqXioBFCpq",
        "colab_type": "text"
      },
      "source": [
        "The response variable is PerfScoreID. It is an ordinal variable with 4 levels: 1 refers to PIP, 2 needs improvement, 3 fully meets, and 4 exceeds. So I assign Y to our response PerfScoreID and the remaining columns are assigned to x."
      ]
    },
    {
      "cell_type": "code",
      "metadata": {
        "id": "UDYgsgCCEgeb",
        "colab_type": "code",
        "colab": {
          "base_uri": "https://localhost:8080/",
          "height": 51
        },
        "outputId": "91985344-5ccc-441a-94d5-ea1e682e28fd"
      },
      "source": [
        "x = HR1.iloc[:,1:].values\n",
        "Y = HR1.iloc[:, 0].values\n",
        "print(x.shape)\n",
        "print(Y.shape)"
      ],
      "execution_count": null,
      "outputs": [
        {
          "output_type": "stream",
          "text": [
            "(310, 85)\n",
            "(310,)\n"
          ],
          "name": "stdout"
        }
      ]
    },
    {
      "cell_type": "markdown",
      "metadata": {
        "id": "oMcuji5YdRd5",
        "colab_type": "text"
      },
      "source": [
        "Then I split the data into 25% test set and 75% training set."
      ]
    },
    {
      "cell_type": "code",
      "metadata": {
        "id": "TXz83gm3EmAA",
        "colab_type": "code",
        "colab": {}
      },
      "source": [
        "x_train, x_test, Y_train, Y_test = train_test_split(x, Y, test_size=0.25, random_state=0)"
      ],
      "execution_count": null,
      "outputs": []
    },
    {
      "cell_type": "markdown",
      "metadata": {
        "id": "XPTU0gaiddKZ",
        "colab_type": "text"
      },
      "source": [
        "Since we had detectred earlier some imbalance in the dataset, I calculate Shannon's entropy to further validate this observation. The balance is calculated by dividing the entropy by the log of the number of classes (4). \n",
        "We get an entropy of 0.73 and the balance is 0.5; this indicates some imbalance. A value of 1 indicates balance and a value of 0 indicates imbalance."
      ]
    },
    {
      "cell_type": "code",
      "metadata": {
        "id": "j9cfV_FT3ra-",
        "colab_type": "code",
        "colab": {
          "base_uri": "https://localhost:8080/",
          "height": 51
        },
        "outputId": "6c56f44a-9000-43fe-b32a-3012a134b93f"
      },
      "source": [
        "from scipy.stats import entropy\n",
        "pd_series = pd.Series(HR1['PerfScoreID'])\n",
        "counts = pd_series.value_counts()\n",
        "entropy = entropy(counts)\n",
        "balance = entropy/np.log(4)\n",
        "\n",
        "print(entropy)\n",
        "print(balance)"
      ],
      "execution_count": null,
      "outputs": [
        {
          "output_type": "stream",
          "text": [
            "0.7357224105786224\n",
            "0.5307115366063262\n"
          ],
          "name": "stdout"
        }
      ]
    },
    {
      "cell_type": "markdown",
      "metadata": {
        "id": "NaMcuZtWeiV3",
        "colab_type": "text"
      },
      "source": [
        "To handle imbalanced classes, I use SMOTE (Synthetic Minority Oversampling Technique) which oversamples minority classes in the training set. The number of observations is now increased to 404 compared to 301."
      ]
    },
    {
      "cell_type": "code",
      "metadata": {
        "id": "8eMAtLmhEuQG",
        "colab_type": "code",
        "colab": {
          "base_uri": "https://localhost:8080/",
          "height": 34
        },
        "outputId": "40e0ed10-bdcc-4694-ef85-5ee68e445799"
      },
      "source": [
        "smote = SMOTE('minority')\n",
        "\n",
        "x_sm, Y_sm = smote.fit_sample(x_train, Y_train)\n",
        "print(x_sm.shape, Y_sm.shape)"
      ],
      "execution_count": null,
      "outputs": [
        {
          "output_type": "stream",
          "text": [
            "(404, 85) (404,)\n"
          ],
          "name": "stdout"
        }
      ]
    },
    {
      "cell_type": "markdown",
      "metadata": {
        "id": "OCmMMtChfJVF",
        "colab_type": "text"
      },
      "source": [
        "The last preprocessing to be done is scaling the features since we have different units that the variables were measured in. The payrate was measured in dollars, the performance score is a scale from 1 to 4, etc..."
      ]
    },
    {
      "cell_type": "code",
      "metadata": {
        "id": "yj1IHNStEu5B",
        "colab_type": "code",
        "colab": {}
      },
      "source": [
        "from sklearn.preprocessing import StandardScaler\n",
        "ss_X = StandardScaler()\n",
        "ss_x_train = ss_X.fit_transform(x_sm)\n",
        "ss_x_test = ss_X.transform(x_test)"
      ],
      "execution_count": null,
      "outputs": []
    },
    {
      "cell_type": "markdown",
      "metadata": {
        "id": "nUGdf7nIaIEf",
        "colab_type": "text"
      },
      "source": [
        "## Models"
      ]
    },
    {
      "cell_type": "markdown",
      "metadata": {
        "id": "fI-Qi-PxbEuY",
        "colab_type": "text"
      },
      "source": [
        "In this section, I will implement 5 different classification models to predict performance score. This will be a multiclass classification problem."
      ]
    },
    {
      "cell_type": "markdown",
      "metadata": {
        "id": "1nH_ZO7gcEnM",
        "colab_type": "text"
      },
      "source": [
        "### Random Forest"
      ]
    },
    {
      "cell_type": "code",
      "metadata": {
        "id": "kpZnWeAocG6T",
        "colab_type": "code",
        "colab": {
          "base_uri": "https://localhost:8080/",
          "height": 153
        },
        "outputId": "255063cf-1bf3-45dc-8709-7f2a2ce930a0"
      },
      "source": [
        "rf = RandomForestClassifier(n_estimators=10, criterion=\"entropy\", random_state=0)\n",
        "rf.fit(ss_x_train, Y_sm)"
      ],
      "execution_count": null,
      "outputs": [
        {
          "output_type": "execute_result",
          "data": {
            "text/plain": [
              "RandomForestClassifier(bootstrap=True, ccp_alpha=0.0, class_weight=None,\n",
              "                       criterion='entropy', max_depth=None, max_features='auto',\n",
              "                       max_leaf_nodes=None, max_samples=None,\n",
              "                       min_impurity_decrease=0.0, min_impurity_split=None,\n",
              "                       min_samples_leaf=1, min_samples_split=2,\n",
              "                       min_weight_fraction_leaf=0.0, n_estimators=10,\n",
              "                       n_jobs=None, oob_score=False, random_state=0, verbose=0,\n",
              "                       warm_start=False)"
            ]
          },
          "metadata": {
            "tags": []
          },
          "execution_count": 48
        }
      ]
    },
    {
      "cell_type": "code",
      "metadata": {
        "id": "F8B0SazGcJ1_",
        "colab_type": "code",
        "colab": {}
      },
      "source": [
        "rf_pred = rf.predict(ss_x_test)"
      ],
      "execution_count": null,
      "outputs": []
    },
    {
      "cell_type": "code",
      "metadata": {
        "id": "luydOw4zcNwp",
        "colab_type": "code",
        "colab": {
          "base_uri": "https://localhost:8080/",
          "height": 347
        },
        "outputId": "5a4004b3-1175-4c22-e9bc-13fcb4335188"
      },
      "source": [
        "rf_accuracy = metrics.accuracy_score(Y_test, rf_pred) \n",
        "print(\"Accuracy score:\",rf_accuracy)\n",
        "precision = metrics.precision_score(Y_test, rf_pred, average='micro') \n",
        "print(\"Precision score:\",precision)\n",
        "recall = metrics.recall_score(Y_test, rf_pred, average='micro') \n",
        "print(\"Recall score:\",recall)\n",
        "\n",
        "mat = confusion_matrix(Y_test,rf_pred)\n",
        "sns.heatmap(mat.T, square =True, annot = True, fmt = 'd', cbar= False)\n",
        "plt.xlabel('True Values')\n",
        "plt.ylabel('Predicted Values')"
      ],
      "execution_count": null,
      "outputs": [
        {
          "output_type": "stream",
          "text": [
            "Accuracy score: 0.782051282051282\n",
            "Precision score: 0.782051282051282\n",
            "Recall score: 0.782051282051282\n"
          ],
          "name": "stdout"
        },
        {
          "output_type": "execute_result",
          "data": {
            "text/plain": [
              "Text(91.68, 0.5, 'Predicted Values')"
            ]
          },
          "metadata": {
            "tags": []
          },
          "execution_count": 50
        },
        {
          "output_type": "display_data",
          "data": {
            "image/png": "[encoded data removed]",
            "text/plain": [
              "<Figure size 432x288 with 1 Axes>"
            ]
          },
          "metadata": {
            "tags": [],
            "needs_background": "light"
          }
        }
      ]
    },
    {
      "cell_type": "markdown",
      "metadata": {
        "id": "iLopOXLgjX8G",
        "colab_type": "text"
      },
      "source": [
        "The first classifier is the random forest and it reached an accuracy of 78.2%. I use a confusion matrix to best show where the classification went wrong. We can see that most of the performances were predicted as 2 (which is \"fully meets\"), and that is what is being misclassified."
      ]
    },
    {
      "cell_type": "markdown",
      "metadata": {
        "id": "CS-uVUk9dP0_",
        "colab_type": "text"
      },
      "source": [
        "### Naive Bayes"
      ]
    },
    {
      "cell_type": "code",
      "metadata": {
        "id": "qpNVNqVndVO2",
        "colab_type": "code",
        "colab": {}
      },
      "source": [
        "gnb = GaussianNB().fit(ss_x_train, Y_sm)"
      ],
      "execution_count": null,
      "outputs": []
    },
    {
      "cell_type": "code",
      "metadata": {
        "id": "78aG0fHadWLm",
        "colab_type": "code",
        "colab": {}
      },
      "source": [
        "gnb_predictions = gnb.predict(ss_x_test)"
      ],
      "execution_count": null,
      "outputs": []
    },
    {
      "cell_type": "code",
      "metadata": {
        "id": "mmSFwixydYgA",
        "colab_type": "code",
        "colab": {
          "base_uri": "https://localhost:8080/",
          "height": 313
        },
        "outputId": "59fd29ab-98d9-4ba9-fe5a-3eea01990e22"
      },
      "source": [
        "print('Accuracy Score:', accuracy_score(Y_test, gnb_predictions))\n",
        "mat = confusion_matrix(Y_test,gnb_predictions)\n",
        "sns.heatmap(mat.T, square =True, annot = True, fmt = 'd', cbar= False)\n",
        "plt.xlabel('True Values')\n",
        "plt.ylabel('Predicted Values')"
      ],
      "execution_count": null,
      "outputs": [
        {
          "output_type": "stream",
          "text": [
            "Accuracy Score: 0.28205128205128205\n"
          ],
          "name": "stdout"
        },
        {
          "output_type": "execute_result",
          "data": {
            "text/plain": [
              "Text(91.68, 0.5, 'Predicted Values')"
            ]
          },
          "metadata": {
            "tags": []
          },
          "execution_count": 53
        },
        {
          "output_type": "display_data",
          "data": {
            "image/png": "[encoded data removed]",
            "text/plain": [
              "<Figure size 432x288 with 1 Axes>"
            ]
          },
          "metadata": {
            "tags": [],
            "needs_background": "light"
          }
        }
      ]
    },
    {
      "cell_type": "markdown",
      "metadata": {
        "id": "MVEp0F22mVCW",
        "colab_type": "text"
      },
      "source": [
        "The second classifier is Naive Bayes which achieved a low accuracy of 28.2%. The confusion matrix reveals that the true value of 2 was being confused for all other values. This is the opposite case of the random forest. "
      ]
    },
    {
      "cell_type": "markdown",
      "metadata": {
        "id": "INNSM9XydddU",
        "colab_type": "text"
      },
      "source": [
        "### Support Vector Machine (SVM)"
      ]
    },
    {
      "cell_type": "code",
      "metadata": {
        "id": "q9NO_WbDdedp",
        "colab_type": "code",
        "colab": {}
      },
      "source": [
        "svm_model_linear = SVC(kernel = 'linear', C = 1).fit(ss_x_train, Y_sm) \n",
        "svm_predictions = svm_model_linear.predict(ss_x_test) \n",
        "\n",
        "# model accuracy  \n",
        "svm_accuracy = svm_model_linear.score(ss_x_test, Y_test) \n",
        "  \n",
        "# creating a confusion matrix \n",
        "cm = confusion_matrix(Y_test, svm_predictions)"
      ],
      "execution_count": null,
      "outputs": []
    },
    {
      "cell_type": "code",
      "metadata": {
        "id": "wJsUrMnRdkm2",
        "colab_type": "code",
        "colab": {
          "base_uri": "https://localhost:8080/",
          "height": 313
        },
        "outputId": "2efdb69d-37f7-43dd-a8bb-76fd660e7e3a"
      },
      "source": [
        "print('Accuracy Score:', svm_accuracy)\n",
        "mat = confusion_matrix(Y_test,svm_predictions)\n",
        "sns.heatmap(mat.T, square =True, annot = True, fmt = 'd', cbar= False)\n",
        "plt.xlabel('True Values')\n",
        "plt.ylabel('Predicted Values')"
      ],
      "execution_count": null,
      "outputs": [
        {
          "output_type": "stream",
          "text": [
            "Accuracy Score: 0.717948717948718\n"
          ],
          "name": "stdout"
        },
        {
          "output_type": "execute_result",
          "data": {
            "text/plain": [
              "Text(91.68, 0.5, 'Predicted Values')"
            ]
          },
          "metadata": {
            "tags": []
          },
          "execution_count": 55
        },
        {
          "output_type": "display_data",
          "data": {
            "image/png": "[encoded data removed]",
            "text/plain": [
              "<Figure size 432x288 with 1 Axes>"
            ]
          },
          "metadata": {
            "tags": [],
            "needs_background": "light"
          }
        }
      ]
    },
    {
      "cell_type": "markdown",
      "metadata": {
        "id": "t4kV5lZJuAYv",
        "colab_type": "text"
      },
      "source": [
        "The third classifier is the SVM which achieved an accuracy of 71.79%. The confusion matrix shows a slightly better classification than the previous classifiers. It also shows a similar trend where classes 2 and 3 are being confused, these are \"fully meets\" and \"exceeds\". "
      ]
    },
    {
      "cell_type": "markdown",
      "metadata": {
        "id": "_Gq-fIXXdon-",
        "colab_type": "text"
      },
      "source": [
        "### k-Nearest Neighbor"
      ]
    },
    {
      "cell_type": "code",
      "metadata": {
        "id": "54WhR8dEdwk_",
        "colab_type": "code",
        "colab": {
          "base_uri": "https://localhost:8080/",
          "height": 296
        },
        "outputId": "70803d37-7be9-41d8-f955-998f335abb44"
      },
      "source": [
        "# to check which k gives the highest accuracy\n",
        "k_range = range(1,21)\n",
        "scores = {}\n",
        "scores_list = []\n",
        "for k in k_range:\n",
        "  knn = KNeighborsClassifier(n_neighbors=k)\n",
        "  knn.fit(ss_x_train, Y_sm)\n",
        "  knn_pred=knn.predict(ss_x_test)\n",
        "  scores[k] = metrics.accuracy_score(Y_test, knn_pred)\n",
        "  scores_list.append(metrics.accuracy_score(Y_test, knn_pred))\n",
        "\n",
        "\n",
        "plt.plot(k_range, scores_list)\n",
        "plt.xlabel('Value of K for KNN')\n",
        "plt.ylabel('Testing Accuracy')"
      ],
      "execution_count": null,
      "outputs": [
        {
          "output_type": "execute_result",
          "data": {
            "text/plain": [
              "Text(0, 0.5, 'Testing Accuracy')"
            ]
          },
          "metadata": {
            "tags": []
          },
          "execution_count": 56
        },
        {
          "output_type": "display_data",
          "data": {
            "image/png": "[encoded data removed]",
            "text/plain": [
              "<Figure size 432x288 with 1 Axes>"
            ]
          },
          "metadata": {
            "tags": [],
            "needs_background": "light"
          }
        }
      ]
    },
    {
      "cell_type": "code",
      "metadata": {
        "id": "vi9JKObHdpjP",
        "colab_type": "code",
        "colab": {}
      },
      "source": [
        " knn = KNeighborsClassifier(n_neighbors = 1).fit(ss_x_train, Y_sm)"
      ],
      "execution_count": null,
      "outputs": []
    },
    {
      "cell_type": "code",
      "metadata": {
        "id": "nO2GqUiudqkt",
        "colab_type": "code",
        "colab": {
          "base_uri": "https://localhost:8080/",
          "height": 313
        },
        "outputId": "7423aa0a-256c-44bc-abbc-7bf8c041c8bb"
      },
      "source": [
        "knn_accuracy = knn.score(ss_x_test, Y_test)\n",
        "knn_predictions = knn.predict(ss_x_test)  \n",
        "print('Accuracy Score:', knn_accuracy)\n",
        "mat = confusion_matrix(Y_test,knn_predictions)\n",
        "sns.heatmap(mat.T, square =True, annot = True, fmt = 'd', cbar= False)\n",
        "plt.xlabel('True Values')\n",
        "plt.ylabel('Predicted Values')"
      ],
      "execution_count": null,
      "outputs": [
        {
          "output_type": "stream",
          "text": [
            "Accuracy Score: 0.7051282051282052\n"
          ],
          "name": "stdout"
        },
        {
          "output_type": "execute_result",
          "data": {
            "text/plain": [
              "Text(91.68, 0.5, 'Predicted Values')"
            ]
          },
          "metadata": {
            "tags": []
          },
          "execution_count": 58
        },
        {
          "output_type": "display_data",
          "data": {
            "image/png": "[encoded data removed]",
            "text/plain": [
              "<Figure size 432x288 with 1 Axes>"
            ]
          },
          "metadata": {
            "tags": [],
            "needs_background": "light"
          }
        }
      ]
    },
    {
      "cell_type": "markdown",
      "metadata": {
        "id": "596XUfsovpAM",
        "colab_type": "text"
      },
      "source": [
        "The fourth classifier is the kNN. I start by testing the accuracy on different numbers of neighbors (k) to check which level would perform better. The accuracy keeps declining with larger k values, so I use 1 as as k by hypertuning the parameters of the kNN model. \n",
        "The accuracy reached is 70.75%. "
      ]
    },
    {
      "cell_type": "markdown",
      "metadata": {
        "id": "Raa48mTCX2Dq",
        "colab_type": "text"
      },
      "source": [
        "### Logistic Regression"
      ]
    },
    {
      "cell_type": "code",
      "metadata": {
        "id": "BNcknjQ2X1f0",
        "colab_type": "code",
        "colab": {
          "base_uri": "https://localhost:8080/",
          "height": 102
        },
        "outputId": "b5bbf468-8313-4b42-d818-18e92d4e7ee3"
      },
      "source": [
        "from sklearn.linear_model import LogisticRegression\n",
        "logistic_classifier = LogisticRegression(random_state=0, solver=\"liblinear\")\n",
        "logistic_classifier.fit(ss_x_train, Y_sm)"
      ],
      "execution_count": null,
      "outputs": [
        {
          "output_type": "execute_result",
          "data": {
            "text/plain": [
              "LogisticRegression(C=1.0, class_weight=None, dual=False, fit_intercept=True,\n",
              "                   intercept_scaling=1, l1_ratio=None, max_iter=100,\n",
              "                   multi_class='auto', n_jobs=None, penalty='l2',\n",
              "                   random_state=0, solver='liblinear', tol=0.0001, verbose=0,\n",
              "                   warm_start=False)"
            ]
          },
          "metadata": {
            "tags": []
          },
          "execution_count": 59
        }
      ]
    },
    {
      "cell_type": "code",
      "metadata": {
        "id": "h7Y07hEaZGwh",
        "colab_type": "code",
        "colab": {}
      },
      "source": [
        "logistic_pred = logistic_classifier.predict(ss_x_test)"
      ],
      "execution_count": null,
      "outputs": []
    },
    {
      "cell_type": "code",
      "metadata": {
        "id": "vTxnejmVaCpI",
        "colab_type": "code",
        "colab": {
          "base_uri": "https://localhost:8080/",
          "height": 347
        },
        "outputId": "57b80d71-2a2d-465d-d07c-c4851d8606e2"
      },
      "source": [
        "logistic_accuracy = metrics.accuracy_score(Y_test, logistic_pred) \n",
        "print(\"Accuracy:\",logistic_accuracy)\n",
        "precision = metrics.precision_score(Y_test, logistic_pred, average='macro') \n",
        "print(\"Precision score:\",precision)\n",
        "recall = metrics.recall_score(Y_test, logistic_pred, average='macro') \n",
        "print(\"Recall score:\",recall)\n",
        "\n",
        "mat = confusion_matrix(Y_test,logistic_pred)\n",
        "sns.heatmap(mat.T, square =True, annot = True, fmt = 'd', cbar= False)\n",
        "plt.xlabel('True Values')\n",
        "plt.ylabel('Predicted Values')"
      ],
      "execution_count": null,
      "outputs": [
        {
          "output_type": "stream",
          "text": [
            "Accuracy: 0.7435897435897436\n",
            "Precision score: 0.3695652173913043\n",
            "Recall score: 0.4341397849462365\n"
          ],
          "name": "stdout"
        },
        {
          "output_type": "execute_result",
          "data": {
            "text/plain": [
              "Text(91.68, 0.5, 'Predicted Values')"
            ]
          },
          "metadata": {
            "tags": []
          },
          "execution_count": 61
        },
        {
          "output_type": "display_data",
          "data": {
            "image/png": "[encoded data removed]",
            "text/plain": [
              "<Figure size 432x288 with 1 Axes>"
            ]
          },
          "metadata": {
            "tags": [],
            "needs_background": "light"
          }
        }
      ]
    },
    {
      "cell_type": "markdown",
      "metadata": {
        "id": "UxN4c5Z8w1nb",
        "colab_type": "text"
      },
      "source": [
        "The last classifier is the logistic regression. The accuracy reached is 74.35%. From the confusion matrix, we see that most misclassifications are 3 (exceeds) being confused for 2 (fully meets)."
      ]
    },
    {
      "cell_type": "markdown",
      "metadata": {
        "id": "-Fjf-uUZWTjl",
        "colab_type": "text"
      },
      "source": [
        "## Comparison of Performances Across Models"
      ]
    },
    {
      "cell_type": "code",
      "metadata": {
        "id": "F1zYeTxeWZXz",
        "colab_type": "code",
        "colab": {
          "base_uri": "https://localhost:8080/",
          "height": 204
        },
        "outputId": "bd47891c-78b4-473b-d613-ed46ce7336d5"
      },
      "source": [
        "comparisons = {'Classifier':  ['Random Forest', 'Naive Bayes', 'Support Vector Machine', 'k-Nearest Neighbor', 'Logistic Regression'],\n",
        "        'Accuracy': [rf_accuracy, accuracy_score(Y_test, gnb_predictions), svm_accuracy, knn_accuracy, logistic_accuracy]\n",
        "        }\n",
        "\n",
        "df = pd.DataFrame(comparisons, columns = ['Classifier','Accuracy'])\n",
        "df"
      ],
      "execution_count": null,
      "outputs": [
        {
          "output_type": "execute_result",
          "data": {
            "text/html": [
              "<div>\n",
              "<style scoped>\n",
              "    .dataframe tbody tr th:only-of-type {\n",
              "        vertical-align: middle;\n",
              "    }\n",
              "\n",
              "    .dataframe tbody tr th {\n",
              "        vertical-align: top;\n",
              "    }\n",
              "\n",
              "    .dataframe thead th {\n",
              "        text-align: right;\n",
              "    }\n",
              "</style>\n",
              "<table border=\"1\" class=\"dataframe\">\n",
              "  <thead>\n",
              "    <tr style=\"text-align: right;\">\n",
              "      <th></th>\n",
              "      <th>Classifier</th>\n",
              "      <th>Accuracy</th>\n",
              "    </tr>\n",
              "  </thead>\n",
              "  <tbody>\n",
              "    <tr>\n",
              "      <th>0</th>\n",
              "      <td>Random Forest</td>\n",
              "      <td>0.782051</td>\n",
              "    </tr>\n",
              "    <tr>\n",
              "      <th>1</th>\n",
              "      <td>Naive Bayes</td>\n",
              "      <td>0.282051</td>\n",
              "    </tr>\n",
              "    <tr>\n",
              "      <th>2</th>\n",
              "      <td>Support Vector Machine</td>\n",
              "      <td>0.717949</td>\n",
              "    </tr>\n",
              "    <tr>\n",
              "      <th>3</th>\n",
              "      <td>k-Nearest Neighbor</td>\n",
              "      <td>0.705128</td>\n",
              "    </tr>\n",
              "    <tr>\n",
              "      <th>4</th>\n",
              "      <td>Logistic Regression</td>\n",
              "      <td>0.743590</td>\n",
              "    </tr>\n",
              "  </tbody>\n",
              "</table>\n",
              "</div>"
            ],
            "text/plain": [
              "               Classifier  Accuracy\n",
              "0           Random Forest  0.782051\n",
              "1             Naive Bayes  0.282051\n",
              "2  Support Vector Machine  0.717949\n",
              "3      k-Nearest Neighbor  0.705128\n",
              "4     Logistic Regression  0.743590"
            ]
          },
          "metadata": {
            "tags": []
          },
          "execution_count": 62
        }
      ]
    },
    {
      "cell_type": "markdown",
      "metadata": {
        "id": "B3lv4cFm__yG",
        "colab_type": "text"
      },
      "source": [
        "Comparing the 5 models, the random forest tops the rest with the highest accuracy of 79.48%. The SVM, kNN, and logistic are close in the low 70s accuracy. However, the Naive Bayes was the lowest with a large difference at 28% accuracy. The dependence of features could be an explanatory factor behind this low accuracy since the Naive Bayesian classifier assumes the opposite.\n",
        "\n"
      ]
    },
    {
      "cell_type": "markdown",
      "metadata": {
        "id": "oHQ2aQSDV01I",
        "colab_type": "text"
      },
      "source": [
        "## Azure AutoML\n",
        "\n"
      ]
    },
    {
      "cell_type": "markdown",
      "metadata": {
        "id": "aWGzRsTQWAud",
        "colab_type": "text"
      },
      "source": [
        "In addition to running these models in the notebook, I used Microsoft Azure Machine Learning to run an automated ML on the same dataset. I used the data after the preprocessing so that it would be the same data being fed into the models I ran previously. This experiment runs many classifiers and displays all the models in decreasing order of performance. I chose the target metric to be the accuracy score, so that was the performance metric used to assess the models. The models that got the highest accuracy were Extreme Random Forest, SVM, and GBM with a tie at 90.47%. \n",
        "\n",
        "The algorithm of Extreme Random Forest is very similar to the Random Forest, which was also our top performer, but with more randomness. The normalization used on the features was the standard scaler, which transforms the data in a way that its distribution will have a mean of 0 and standard deviation of 1. \n",
        "\n",
        "All models used 100% sampling, and the top 5 are:\n",
        "\n",
        "\n",
        "1. Extreme Random Trees using standard scaler\n",
        "2. SVM using min max scaler\n",
        "3. LightGBM using standard scaler\n",
        "4. LightGBM using min max scaler\n",
        "5. LightGBM using robust scaler\n",
        "\n",
        "\n",
        "\n",
        "---\n",
        "\n"
      ]
    },
    {
      "cell_type": "markdown",
      "metadata": {
        "id": "QPZFg3wGt4dV",
        "colab_type": "text"
      },
      "source": [
        "\n",
        "\n",
        "> # **Conclusion & Perspective**\n",
        "\n",
        "\n",
        "\n"
      ]
    },
    {
      "cell_type": "markdown",
      "metadata": {
        "id": "EvmFdDzKuANc",
        "colab_type": "text"
      },
      "source": [
        "In conclusion, the experiments run were able to classify, to an extent, the performance score of employees based on given data. This could be part of a bigger picture and larger application where HR can try to predict future performance based on known features of the candidate.\n",
        "\n",
        "For future work, I would look into a larger dataset that could help with better classifications, as well as further balancing the classes because, as we saw, there was a bias in classifying the performance level \"fully meets\".  \n",
        "It is also important to note that bias could be present in this model since it is also learning from demographic information such as sex and race, so for future work I would look into auditing the model and quantifying any bias present and try to minimize it. This is also an issue that has been faced with applying AI in recruitment without checking for model bias.\n",
        "\n",
        "AI is disrupting the HR department in almost all of its areas and allowing inefficiencies in the traditional system to be solved. The ideal strategy however is to employ AI in HR management by using AI software to analyze the data collected and leave the decision-making to the human staff. By the end of the day, we can’t take human from Human Resources, so it is advisable for executives to have the final word in decisions with the help of the tools provided by AI.\n",
        "Some barriers for the workforce to adapt AI solutions could be worries about complexity as well as data security and privacy. Therefore, AI companies and startups must explain how they are using AI ethically as well as offer solutions to address security and privacy concerns.\n",
        "AI is still developing, and the era of digital transformation is still maturing, so what is next for the HR?\n",
        "\n",
        "\n",
        "---\n",
        "\n"
      ]
    }
  ]
}