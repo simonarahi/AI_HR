{
  "nbformat": 4,
  "nbformat_minor": 0,
  "metadata": {
    "colab": {
      "name": "candidate_screening.ipynb",
      "provenance": [],
      "collapsed_sections": [],
      "authorship_tag": "ABX9TyM5BTfJPq4V0/g8B5SvXafa",
      "include_colab_link": true
    },
    "kernelspec": {
      "name": "python3",
      "display_name": "Python 3"
    }
  },
  "cells": [
    {
      "cell_type": "markdown",
      "metadata": {
        "id": "view-in-github",
        "colab_type": "text"
      },
      "source": [
        "<a href=\"https://colab.research.google.com/github/simonarahi/AI_HR/blob/master/candidate_screening.ipynb\" target=\"_parent\"><img src=\"https://colab.research.google.com/assets/colab-badge.svg\" alt=\"Open In Colab\"/></a>"
      ]
    },
    {
      "cell_type": "markdown",
      "metadata": {
        "id": "vL4Yq4wNT70f",
        "colab_type": "text"
      },
      "source": [
        "## Loading Libraries"
      ]
    },
    {
      "cell_type": "code",
      "metadata": {
        "id": "zeOIBYq2Y6QI",
        "colab_type": "code",
        "colab": {
          "base_uri": "https://localhost:8080/",
          "height": 139
        },
        "outputId": "41aee4f5-86b4-4d1c-d284-158ec34d3c48"
      },
      "source": [
        "import io\n",
        "import pandas as pd\n",
        "import matplotlib.pyplot as plt\n",
        "import numpy as np \n",
        "import seaborn as sns\n",
        "import sklearn\n",
        "\n",
        "from sklearn import metrics\n",
        "from sklearn import datasets, linear_model\n",
        "from sklearn import preprocessing\n",
        "from sklearn.metrics import accuracy_score\n",
        "from sklearn.metrics import precision_recall_fscore_support as score\n",
        "from sklearn.metrics import mean_squared_error, r2_score\n",
        "from sklearn.metrics import explained_variance_score\n",
        "from sklearn.metrics import mean_absolute_error\n",
        "from sklearn.metrics import confusion_matrix\n",
        "from sklearn.model_selection import train_test_split\n",
        "\n",
        "from sklearn.datasets import make_classification\n",
        "import statsmodels.formula.api as smf\n",
        "\n",
        "from time import time\n",
        "\n",
        "from sklearn.neighbors import KNeighborsRegressor\n",
        "from sklearn.linear_model import LinearRegression, RANSACRegressor\n",
        "from sklearn.gaussian_process import GaussianProcessRegressor\n",
        "from sklearn.svm import SVR\n",
        "from sklearn.svm import SVC \n",
        "from sklearn.svm import LinearSVR\n",
        "from sklearn.linear_model import Lasso, Ridge\n",
        "from sklearn.naive_bayes import GaussianNB\n",
        "from sklearn.neighbors import KNeighborsClassifier\n",
        "from sklearn.tree import DecisionTreeRegressor\n",
        "from sklearn.ensemble import RandomForestClassifier\n",
        "from sklearn.ensemble import RandomForestRegressor\n",
        "\n",
        "from pylab import rcParams\n",
        "import seaborn as sb\n",
        "\n",
        "from imblearn.over_sampling import SMOTE"
      ],
      "execution_count": 1,
      "outputs": [
        {
          "output_type": "stream",
          "text": [
            "/usr/local/lib/python3.6/dist-packages/statsmodels/tools/_testing.py:19: FutureWarning: pandas.util.testing is deprecated. Use the functions in the public API at pandas.testing instead.\n",
            "  import pandas.util.testing as tm\n",
            "/usr/local/lib/python3.6/dist-packages/sklearn/externals/six.py:31: FutureWarning: The module is deprecated in version 0.21 and will be removed in version 0.23 since we've dropped support for Python 2.7. Please rely on the official version of six (https://pypi.org/project/six/).\n",
            "  \"(https://pypi.org/project/six/).\", FutureWarning)\n",
            "/usr/local/lib/python3.6/dist-packages/sklearn/utils/deprecation.py:144: FutureWarning: The sklearn.neighbors.base module is  deprecated in version 0.22 and will be removed in version 0.24. The corresponding classes / functions should instead be imported from sklearn.neighbors. Anything that cannot be imported from sklearn.neighbors is now part of the private API.\n",
            "  warnings.warn(message, FutureWarning)\n"
          ],
          "name": "stderr"
        }
      ]
    },
    {
      "cell_type": "markdown",
      "metadata": {
        "id": "P78RbeQGZF6J",
        "colab_type": "text"
      },
      "source": [
        "## Loading Data Set"
      ]
    },
    {
      "cell_type": "code",
      "metadata": {
        "id": "1pSFv_KoSyTv",
        "colab_type": "code",
        "colab": {
          "resources": {
            "http://localhost:8080/nbextensions/google.colab/files.js": {
              "data": "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",
              "ok": true,
              "headers": [
                [
                  "content-type",
                  "application/javascript"
                ]
              ],
              "status": 200,
              "status_text": ""
            }
          },
          "base_uri": "https://localhost:8080/",
          "height": 72
        },
        "outputId": "7feb3e39-dac6-4569-e9e1-1e0bdd9fc22c"
      },
      "source": [
        "from google.colab import files\n",
        "uploaded = files.upload()"
      ],
      "execution_count": 2,
      "outputs": [
        {
          "output_type": "display_data",
          "data": {
            "text/html": [
              "\n",
              "     <input type=\"file\" id=\"files-2caa3be6-afd5-4388-b734-b6fdaa757f3d\" name=\"files[]\" multiple disabled\n",
              "        style=\"border:none\" />\n",
              "     <output id=\"result-2caa3be6-afd5-4388-b734-b6fdaa757f3d\">\n",
              "      Upload widget is only available when the cell has been executed in the\n",
              "      current browser session. Please rerun this cell to enable.\n",
              "      </output>\n",
              "      <script src=\"/nbextensions/google.colab/files.js\"></script> "
            ],
            "text/plain": [
              "<IPython.core.display.HTML object>"
            ]
          },
          "metadata": {
            "tags": []
          }
        },
        {
          "output_type": "stream",
          "text": [
            "Saving HR_dataset.csv to HR_dataset.csv\n"
          ],
          "name": "stdout"
        }
      ]
    },
    {
      "cell_type": "code",
      "metadata": {
        "id": "KkM4pK4HTfnc",
        "colab_type": "code",
        "colab": {}
      },
      "source": [
        "HR = pd.read_csv(io.BytesIO(uploaded['HR_dataset.csv']))"
      ],
      "execution_count": 3,
      "outputs": []
    },
    {
      "cell_type": "code",
      "metadata": {
        "id": "2OAgQfOFTwJJ",
        "colab_type": "code",
        "colab": {
          "base_uri": "https://localhost:8080/",
          "height": 343
        },
        "outputId": "01bb0a52-8399-4ea2-86ae-f52230b94145"
      },
      "source": [
        "HR.head()"
      ],
      "execution_count": 4,
      "outputs": [
        {
          "output_type": "execute_result",
          "data": {
            "text/html": [
              "<div>\n",
              "<style scoped>\n",
              "    .dataframe tbody tr th:only-of-type {\n",
              "        vertical-align: middle;\n",
              "    }\n",
              "\n",
              "    .dataframe tbody tr th {\n",
              "        vertical-align: top;\n",
              "    }\n",
              "\n",
              "    .dataframe thead th {\n",
              "        text-align: right;\n",
              "    }\n",
              "</style>\n",
              "<table border=\"1\" class=\"dataframe\">\n",
              "  <thead>\n",
              "    <tr style=\"text-align: right;\">\n",
              "      <th></th>\n",
              "      <th>Employee_Name</th>\n",
              "      <th>EmpID</th>\n",
              "      <th>MarriedID</th>\n",
              "      <th>MaritalStatusID</th>\n",
              "      <th>GenderID</th>\n",
              "      <th>EmpStatusID</th>\n",
              "      <th>DeptID</th>\n",
              "      <th>PerfScoreID</th>\n",
              "      <th>FromDiversityJobFairID</th>\n",
              "      <th>PayRate</th>\n",
              "      <th>Termd</th>\n",
              "      <th>PositionID</th>\n",
              "      <th>Position</th>\n",
              "      <th>State</th>\n",
              "      <th>Zip</th>\n",
              "      <th>DOB</th>\n",
              "      <th>Sex</th>\n",
              "      <th>MaritalDesc</th>\n",
              "      <th>CitizenDesc</th>\n",
              "      <th>HispanicLatino</th>\n",
              "      <th>RaceDesc</th>\n",
              "      <th>DateofHire</th>\n",
              "      <th>DateofTermination</th>\n",
              "      <th>TermReason</th>\n",
              "      <th>EmploymentStatus</th>\n",
              "      <th>Department</th>\n",
              "      <th>ManagerName</th>\n",
              "      <th>ManagerID</th>\n",
              "      <th>RecruitmentSource</th>\n",
              "      <th>PerformanceScore</th>\n",
              "      <th>EngagementSurvey</th>\n",
              "      <th>EmpSatisfaction</th>\n",
              "      <th>SpecialProjectsCount</th>\n",
              "      <th>LastPerformanceReview_Date</th>\n",
              "      <th>DaysLateLast30</th>\n",
              "    </tr>\n",
              "  </thead>\n",
              "  <tbody>\n",
              "    <tr>\n",
              "      <th>0</th>\n",
              "      <td>Brown, Mia</td>\n",
              "      <td>1.103024e+09</td>\n",
              "      <td>1.0</td>\n",
              "      <td>1.0</td>\n",
              "      <td>0.0</td>\n",
              "      <td>1.0</td>\n",
              "      <td>1.0</td>\n",
              "      <td>3.0</td>\n",
              "      <td>1.0</td>\n",
              "      <td>28.50</td>\n",
              "      <td>0.0</td>\n",
              "      <td>1.0</td>\n",
              "      <td>Accountant I</td>\n",
              "      <td>MA</td>\n",
              "      <td>1450.0</td>\n",
              "      <td>11/24/87</td>\n",
              "      <td>F</td>\n",
              "      <td>Married</td>\n",
              "      <td>US Citizen</td>\n",
              "      <td>No</td>\n",
              "      <td>Black or African American</td>\n",
              "      <td>10/27/2008</td>\n",
              "      <td>NaN</td>\n",
              "      <td>N/A - still employed</td>\n",
              "      <td>Active</td>\n",
              "      <td>Admin Offices</td>\n",
              "      <td>Brandon R. LeBlanc</td>\n",
              "      <td>1.0</td>\n",
              "      <td>Diversity Job Fair</td>\n",
              "      <td>Fully Meets</td>\n",
              "      <td>2.04</td>\n",
              "      <td>2.0</td>\n",
              "      <td>6.0</td>\n",
              "      <td>1/15/2019</td>\n",
              "      <td>0.0</td>\n",
              "    </tr>\n",
              "    <tr>\n",
              "      <th>1</th>\n",
              "      <td>LaRotonda, William</td>\n",
              "      <td>1.106027e+09</td>\n",
              "      <td>0.0</td>\n",
              "      <td>2.0</td>\n",
              "      <td>1.0</td>\n",
              "      <td>1.0</td>\n",
              "      <td>1.0</td>\n",
              "      <td>3.0</td>\n",
              "      <td>0.0</td>\n",
              "      <td>23.00</td>\n",
              "      <td>0.0</td>\n",
              "      <td>1.0</td>\n",
              "      <td>Accountant I</td>\n",
              "      <td>MA</td>\n",
              "      <td>1460.0</td>\n",
              "      <td>04/26/84</td>\n",
              "      <td>M</td>\n",
              "      <td>Divorced</td>\n",
              "      <td>US Citizen</td>\n",
              "      <td>No</td>\n",
              "      <td>Black or African American</td>\n",
              "      <td>1/6/2014</td>\n",
              "      <td>NaN</td>\n",
              "      <td>N/A - still employed</td>\n",
              "      <td>Active</td>\n",
              "      <td>Admin Offices</td>\n",
              "      <td>Brandon R. LeBlanc</td>\n",
              "      <td>1.0</td>\n",
              "      <td>Website Banner Ads</td>\n",
              "      <td>Fully Meets</td>\n",
              "      <td>5.00</td>\n",
              "      <td>4.0</td>\n",
              "      <td>4.0</td>\n",
              "      <td>1/17/2019</td>\n",
              "      <td>0.0</td>\n",
              "    </tr>\n",
              "    <tr>\n",
              "      <th>2</th>\n",
              "      <td>Steans, Tyrone</td>\n",
              "      <td>1.302053e+09</td>\n",
              "      <td>0.0</td>\n",
              "      <td>0.0</td>\n",
              "      <td>1.0</td>\n",
              "      <td>1.0</td>\n",
              "      <td>1.0</td>\n",
              "      <td>3.0</td>\n",
              "      <td>0.0</td>\n",
              "      <td>29.00</td>\n",
              "      <td>0.0</td>\n",
              "      <td>1.0</td>\n",
              "      <td>Accountant I</td>\n",
              "      <td>MA</td>\n",
              "      <td>2703.0</td>\n",
              "      <td>09/01/86</td>\n",
              "      <td>M</td>\n",
              "      <td>Single</td>\n",
              "      <td>US Citizen</td>\n",
              "      <td>No</td>\n",
              "      <td>White</td>\n",
              "      <td>9/29/2014</td>\n",
              "      <td>NaN</td>\n",
              "      <td>N/A - still employed</td>\n",
              "      <td>Active</td>\n",
              "      <td>Admin Offices</td>\n",
              "      <td>Brandon R. LeBlanc</td>\n",
              "      <td>1.0</td>\n",
              "      <td>Internet Search</td>\n",
              "      <td>Fully Meets</td>\n",
              "      <td>3.90</td>\n",
              "      <td>5.0</td>\n",
              "      <td>5.0</td>\n",
              "      <td>1/18/2019</td>\n",
              "      <td>0.0</td>\n",
              "    </tr>\n",
              "    <tr>\n",
              "      <th>3</th>\n",
              "      <td>Howard, Estelle</td>\n",
              "      <td>1.211051e+09</td>\n",
              "      <td>1.0</td>\n",
              "      <td>1.0</td>\n",
              "      <td>0.0</td>\n",
              "      <td>1.0</td>\n",
              "      <td>1.0</td>\n",
              "      <td>3.0</td>\n",
              "      <td>0.0</td>\n",
              "      <td>21.50</td>\n",
              "      <td>1.0</td>\n",
              "      <td>2.0</td>\n",
              "      <td>Administrative Assistant</td>\n",
              "      <td>MA</td>\n",
              "      <td>2170.0</td>\n",
              "      <td>09/16/85</td>\n",
              "      <td>F</td>\n",
              "      <td>Married</td>\n",
              "      <td>US Citizen</td>\n",
              "      <td>No</td>\n",
              "      <td>White</td>\n",
              "      <td>2/16/2015</td>\n",
              "      <td>04/15/15</td>\n",
              "      <td>NaN</td>\n",
              "      <td>Terminated for Cause</td>\n",
              "      <td>Admin Offices</td>\n",
              "      <td>Brandon R. LeBlanc</td>\n",
              "      <td>1.0</td>\n",
              "      <td>Pay Per Click - Google</td>\n",
              "      <td>Fully Meets</td>\n",
              "      <td>3.24</td>\n",
              "      <td>3.0</td>\n",
              "      <td>4.0</td>\n",
              "      <td>NaN</td>\n",
              "      <td>NaN</td>\n",
              "    </tr>\n",
              "    <tr>\n",
              "      <th>4</th>\n",
              "      <td>Singh, Nan</td>\n",
              "      <td>1.307060e+09</td>\n",
              "      <td>0.0</td>\n",
              "      <td>0.0</td>\n",
              "      <td>0.0</td>\n",
              "      <td>1.0</td>\n",
              "      <td>1.0</td>\n",
              "      <td>3.0</td>\n",
              "      <td>0.0</td>\n",
              "      <td>16.56</td>\n",
              "      <td>0.0</td>\n",
              "      <td>2.0</td>\n",
              "      <td>Administrative Assistant</td>\n",
              "      <td>MA</td>\n",
              "      <td>2330.0</td>\n",
              "      <td>05/19/88</td>\n",
              "      <td>F</td>\n",
              "      <td>Single</td>\n",
              "      <td>US Citizen</td>\n",
              "      <td>No</td>\n",
              "      <td>White</td>\n",
              "      <td>5/1/2015</td>\n",
              "      <td>NaN</td>\n",
              "      <td>N/A - still employed</td>\n",
              "      <td>Active</td>\n",
              "      <td>Admin Offices</td>\n",
              "      <td>Brandon R. LeBlanc</td>\n",
              "      <td>1.0</td>\n",
              "      <td>Website Banner Ads</td>\n",
              "      <td>Fully Meets</td>\n",
              "      <td>5.00</td>\n",
              "      <td>3.0</td>\n",
              "      <td>5.0</td>\n",
              "      <td>1/15/2019</td>\n",
              "      <td>0.0</td>\n",
              "    </tr>\n",
              "  </tbody>\n",
              "</table>\n",
              "</div>"
            ],
            "text/plain": [
              "          Employee_Name  ...  DaysLateLast30\n",
              "0            Brown, Mia  ...             0.0\n",
              "1  LaRotonda, William    ...             0.0\n",
              "2      Steans, Tyrone    ...             0.0\n",
              "3       Howard, Estelle  ...             NaN\n",
              "4           Singh, Nan   ...             0.0\n",
              "\n",
              "[5 rows x 35 columns]"
            ]
          },
          "metadata": {
            "tags": []
          },
          "execution_count": 4
        }
      ]
    },
    {
      "cell_type": "markdown",
      "metadata": {
        "id": "xgsug-gnO-4e",
        "colab_type": "text"
      },
      "source": [
        "## Data Exploration"
      ]
    },
    {
      "cell_type": "code",
      "metadata": {
        "id": "GOZ7lRjiPCuE",
        "colab_type": "code",
        "colab": {
          "base_uri": "https://localhost:8080/",
          "height": 731
        },
        "outputId": "ffc360b0-9edf-43f5-d1c5-e7e83ce4fa8d"
      },
      "source": [
        "HR.info()"
      ],
      "execution_count": 5,
      "outputs": [
        {
          "output_type": "stream",
          "text": [
            "<class 'pandas.core.frame.DataFrame'>\n",
            "RangeIndex: 401 entries, 0 to 400\n",
            "Data columns (total 35 columns):\n",
            " #   Column                      Non-Null Count  Dtype  \n",
            "---  ------                      --------------  -----  \n",
            " 0   Employee_Name               310 non-null    object \n",
            " 1   EmpID                       310 non-null    float64\n",
            " 2   MarriedID                   310 non-null    float64\n",
            " 3   MaritalStatusID             310 non-null    float64\n",
            " 4   GenderID                    310 non-null    float64\n",
            " 5   EmpStatusID                 310 non-null    float64\n",
            " 6   DeptID                      310 non-null    float64\n",
            " 7   PerfScoreID                 310 non-null    float64\n",
            " 8   FromDiversityJobFairID      310 non-null    float64\n",
            " 9   PayRate                     310 non-null    float64\n",
            " 10  Termd                       310 non-null    float64\n",
            " 11  PositionID                  310 non-null    float64\n",
            " 12  Position                    310 non-null    object \n",
            " 13  State                       310 non-null    object \n",
            " 14  Zip                         310 non-null    float64\n",
            " 15  DOB                         310 non-null    object \n",
            " 16  Sex                         310 non-null    object \n",
            " 17  MaritalDesc                 310 non-null    object \n",
            " 18  CitizenDesc                 310 non-null    object \n",
            " 19  HispanicLatino              310 non-null    object \n",
            " 20  RaceDesc                    310 non-null    object \n",
            " 21  DateofHire                  310 non-null    object \n",
            " 22  DateofTermination           103 non-null    object \n",
            " 23  TermReason                  309 non-null    object \n",
            " 24  EmploymentStatus            310 non-null    object \n",
            " 25  Department                  310 non-null    object \n",
            " 26  ManagerName                 310 non-null    object \n",
            " 27  ManagerID                   302 non-null    float64\n",
            " 28  RecruitmentSource           310 non-null    object \n",
            " 29  PerformanceScore            310 non-null    object \n",
            " 30  EngagementSurvey            310 non-null    float64\n",
            " 31  EmpSatisfaction             310 non-null    float64\n",
            " 32  SpecialProjectsCount        310 non-null    float64\n",
            " 33  LastPerformanceReview_Date  207 non-null    object \n",
            " 34  DaysLateLast30              207 non-null    float64\n",
            "dtypes: float64(17), object(18)\n",
            "memory usage: 109.8+ KB\n"
          ],
          "name": "stdout"
        }
      ]
    },
    {
      "cell_type": "code",
      "metadata": {
        "id": "901u0CnHUxOa",
        "colab_type": "code",
        "colab": {
          "base_uri": "https://localhost:8080/",
          "height": 170
        },
        "outputId": "f8dc34dd-db44-49a0-9143-d5ae814c5992"
      },
      "source": [
        "# looking at columns we have\n",
        "HR.columns"
      ],
      "execution_count": 6,
      "outputs": [
        {
          "output_type": "execute_result",
          "data": {
            "text/plain": [
              "Index(['Employee_Name', 'EmpID', 'MarriedID', 'MaritalStatusID', 'GenderID',\n",
              "       'EmpStatusID', 'DeptID', 'PerfScoreID', 'FromDiversityJobFairID',\n",
              "       'PayRate', 'Termd', 'PositionID', 'Position', 'State', 'Zip', 'DOB',\n",
              "       'Sex', 'MaritalDesc', 'CitizenDesc', 'HispanicLatino', 'RaceDesc',\n",
              "       'DateofHire', 'DateofTermination', 'TermReason', 'EmploymentStatus',\n",
              "       'Department', 'ManagerName', 'ManagerID', 'RecruitmentSource',\n",
              "       'PerformanceScore', 'EngagementSurvey', 'EmpSatisfaction',\n",
              "       'SpecialProjectsCount', 'LastPerformanceReview_Date', 'DaysLateLast30'],\n",
              "      dtype='object')"
            ]
          },
          "metadata": {
            "tags": []
          },
          "execution_count": 6
        }
      ]
    },
    {
      "cell_type": "code",
      "metadata": {
        "id": "DOtSkqFYdY8U",
        "colab_type": "code",
        "colab": {
          "base_uri": "https://localhost:8080/",
          "height": 300
        },
        "outputId": "bfbde5b6-c79b-42db-e5f9-c13632cb8d11"
      },
      "source": [
        "# looking at average payrates for each sex\n",
        "plot1 = HR.groupby(['Sex']).mean().PayRate.plot(kind='bar')\n",
        "plot1.set_ylabel(\"Avg Pay Rate\")"
      ],
      "execution_count": 7,
      "outputs": [
        {
          "output_type": "execute_result",
          "data": {
            "text/plain": [
              "Text(0, 0.5, 'Avg Pay Rate')"
            ]
          },
          "metadata": {
            "tags": []
          },
          "execution_count": 7
        },
        {
          "output_type": "display_data",
          "data": {
            "image/png": "[encoded data removed]",
            "text/plain": [
              "<Figure size 432x288 with 1 Axes>"
            ]
          },
          "metadata": {
            "tags": [],
            "needs_background": "light"
          }
        }
      ]
    },
    {
      "cell_type": "code",
      "metadata": {
        "id": "vAo9Ud5xdyB-",
        "colab_type": "code",
        "colab": {
          "base_uri": "https://localhost:8080/",
          "height": 624
        },
        "outputId": "3b6d8d4f-f906-4d09-8d06-508948778f00"
      },
      "source": [
        "# looking at performance scores: M vs F\n",
        "HR.groupby(['Sex', 'PerformanceScore']).size().unstack().plot(kind='bar', stacked=True, figsize=(10,10))\n"
      ],
      "execution_count": 8,
      "outputs": [
        {
          "output_type": "execute_result",
          "data": {
            "text/plain": [
              "<matplotlib.axes._subplots.AxesSubplot at 0x7fa35a7e87b8>"
            ]
          },
          "metadata": {
            "tags": []
          },
          "execution_count": 8
        },
        {
          "output_type": "display_data",
          "data": {
            "image/png": "[encoded data removed]",
            "text/plain": [
              "<Figure size 720x720 with 1 Axes>"
            ]
          },
          "metadata": {
            "tags": [],
            "needs_background": "light"
          }
        }
      ]
    },
    {
      "cell_type": "code",
      "metadata": {
        "id": "NbK-nv92zFa4",
        "colab_type": "code",
        "colab": {
          "base_uri": "https://localhost:8080/",
          "height": 437
        },
        "outputId": "fd9ca50a-02a9-4cb3-a27f-93ec095ce807"
      },
      "source": [
        "# plotting missing values\n",
        "plt.figure(figsize=(12,4))\n",
        "sns.heatmap(HR.isnull(),cbar=False,cmap='viridis',yticklabels=False)\n",
        "plt.title('Missing values in the dataset')"
      ],
      "execution_count": 9,
      "outputs": [
        {
          "output_type": "execute_result",
          "data": {
            "text/plain": [
              "Text(0.5, 1.0, 'Missing values in the dataset')"
            ]
          },
          "metadata": {
            "tags": []
          },
          "execution_count": 9
        },
        {
          "output_type": "display_data",
          "data": {
            "image/png": "[encoded data removed]",
            "text/plain": [
              "<Figure size 864x288 with 1 Axes>"
            ]
          },
          "metadata": {
            "tags": [],
            "needs_background": "light"
          }
        }
      ]
    },
    {
      "cell_type": "code",
      "metadata": {
        "id": "qzrtNxuH0Reh",
        "colab_type": "code",
        "colab": {
          "base_uri": "https://localhost:8080/",
          "height": 373
        },
        "outputId": "eca3ca37-6617-4bfa-8abe-a2ed4cf28759"
      },
      "source": [
        "# counts of instances per class for Performance Score \n",
        "HR['PerformanceScore'].value_counts().plot(kind='bar')"
      ],
      "execution_count": 10,
      "outputs": [
        {
          "output_type": "execute_result",
          "data": {
            "text/plain": [
              "<matplotlib.axes._subplots.AxesSubplot at 0x7fa35a7cdc18>"
            ]
          },
          "metadata": {
            "tags": []
          },
          "execution_count": 10
        },
        {
          "output_type": "display_data",
          "data": {
            "image/png": "[encoded data removed]",
            "text/plain": [
              "<Figure size 432x288 with 1 Axes>"
            ]
          },
          "metadata": {
            "tags": [],
            "needs_background": "light"
          }
        }
      ]
    },
    {
      "cell_type": "code",
      "metadata": {
        "id": "7w8vNYNZ1nJq",
        "colab_type": "code",
        "colab": {
          "base_uri": "https://localhost:8080/",
          "height": 142
        },
        "outputId": "b0f4db47-c679-4bb2-bd6a-84e3b6e47552"
      },
      "source": [
        "# pairwise relationships with quantitative variables\n",
        "HRquant = HR.filter(['PayRate','EngagementSurvey','EmpSatisfaction', 'SpecialProjectCounts'], axis=1)\n",
        "HRquant.corr()"
      ],
      "execution_count": 11,
      "outputs": [
        {
          "output_type": "execute_result",
          "data": {
            "text/html": [
              "<div>\n",
              "<style scoped>\n",
              "    .dataframe tbody tr th:only-of-type {\n",
              "        vertical-align: middle;\n",
              "    }\n",
              "\n",
              "    .dataframe tbody tr th {\n",
              "        vertical-align: top;\n",
              "    }\n",
              "\n",
              "    .dataframe thead th {\n",
              "        text-align: right;\n",
              "    }\n",
              "</style>\n",
              "<table border=\"1\" class=\"dataframe\">\n",
              "  <thead>\n",
              "    <tr style=\"text-align: right;\">\n",
              "      <th></th>\n",
              "      <th>PayRate</th>\n",
              "      <th>EngagementSurvey</th>\n",
              "      <th>EmpSatisfaction</th>\n",
              "    </tr>\n",
              "  </thead>\n",
              "  <tbody>\n",
              "    <tr>\n",
              "      <th>PayRate</th>\n",
              "      <td>1.000000</td>\n",
              "      <td>-0.024223</td>\n",
              "      <td>0.061525</td>\n",
              "    </tr>\n",
              "    <tr>\n",
              "      <th>EngagementSurvey</th>\n",
              "      <td>-0.024223</td>\n",
              "      <td>1.000000</td>\n",
              "      <td>-0.017123</td>\n",
              "    </tr>\n",
              "    <tr>\n",
              "      <th>EmpSatisfaction</th>\n",
              "      <td>0.061525</td>\n",
              "      <td>-0.017123</td>\n",
              "      <td>1.000000</td>\n",
              "    </tr>\n",
              "  </tbody>\n",
              "</table>\n",
              "</div>"
            ],
            "text/plain": [
              "                   PayRate  EngagementSurvey  EmpSatisfaction\n",
              "PayRate           1.000000         -0.024223         0.061525\n",
              "EngagementSurvey -0.024223          1.000000        -0.017123\n",
              "EmpSatisfaction   0.061525         -0.017123         1.000000"
            ]
          },
          "metadata": {
            "tags": []
          },
          "execution_count": 11
        }
      ]
    },
    {
      "cell_type": "code",
      "metadata": {
        "id": "j9cfV_FT3ra-",
        "colab_type": "code",
        "colab": {
          "base_uri": "https://localhost:8080/",
          "height": 51
        },
        "outputId": "98899262-79db-45d7-b3e2-8e903aef7daf"
      },
      "source": [
        "# calculating Shannon's entropy to ensure balance across classes\n",
        "from scipy.stats import entropy\n",
        "pd_series = pd.Series(HR['PerformanceScore'])\n",
        "counts = pd_series.value_counts()\n",
        "entropy = entropy(counts)\n",
        "balance = entropy/np.log(4)\n",
        "\n",
        "print(entropy)\n",
        "print(balance)"
      ],
      "execution_count": 12,
      "outputs": [
        {
          "output_type": "stream",
          "text": [
            "0.7357224105786224\n",
            "0.5307115366063262\n"
          ],
          "name": "stdout"
        }
      ]
    },
    {
      "cell_type": "markdown",
      "metadata": {
        "id": "nUGdf7nIaIEf",
        "colab_type": "text"
      },
      "source": [
        "# Models"
      ]
    },
    {
      "cell_type": "markdown",
      "metadata": {
        "id": "fI-Qi-PxbEuY",
        "colab_type": "text"
      },
      "source": [
        "In this second method, I will choose different features to predict the performance score of employees. This will be a multiclass classification problem."
      ]
    },
    {
      "cell_type": "code",
      "metadata": {
        "id": "oGkKBv1Nairt",
        "colab_type": "code",
        "colab": {}
      },
      "source": [
        "HR = pd.read_csv(io.BytesIO(uploaded['HR_dataset.csv']))"
      ],
      "execution_count": 13,
      "outputs": []
    },
    {
      "cell_type": "markdown",
      "metadata": {
        "id": "6wiOP-bPbTnD",
        "colab_type": "text"
      },
      "source": [
        "### Preprocessing"
      ]
    },
    {
      "cell_type": "code",
      "metadata": {
        "id": "8buchyAobZyk",
        "colab_type": "code",
        "colab": {}
      },
      "source": [
        "HR.drop(columns=['GenderID', 'Employee_Name', 'EmpID', 'MarriedID', 'MaritalStatusID', 'EmpStatusID' ,\n",
        "                 'DeptID', 'PositionID', 'DOB','State', 'Zip', 'CitizenDesc', \n",
        "                 'HispanicLatino', 'DateofHire', 'DateofTermination', 'TermReason', \n",
        "                 'ManagerName', 'ManagerID', 'LastPerformanceReview_Date', 'DaysLateLast30', 'PerformanceScore'], inplace=True)"
      ],
      "execution_count": 14,
      "outputs": []
    },
    {
      "cell_type": "code",
      "metadata": {
        "id": "VHntYl0ZbeYQ",
        "colab_type": "code",
        "colab": {
          "base_uri": "https://localhost:8080/",
          "height": 374
        },
        "outputId": "c4578fa2-1f54-404b-ced3-22af6a255442"
      },
      "source": [
        "HR.info()\n",
        "HR.dropna(inplace=True)"
      ],
      "execution_count": 15,
      "outputs": [
        {
          "output_type": "stream",
          "text": [
            "<class 'pandas.core.frame.DataFrame'>\n",
            "RangeIndex: 401 entries, 0 to 400\n",
            "Data columns (total 14 columns):\n",
            " #   Column                  Non-Null Count  Dtype  \n",
            "---  ------                  --------------  -----  \n",
            " 0   PerfScoreID             310 non-null    float64\n",
            " 1   FromDiversityJobFairID  310 non-null    float64\n",
            " 2   PayRate                 310 non-null    float64\n",
            " 3   Termd                   310 non-null    float64\n",
            " 4   Position                310 non-null    object \n",
            " 5   Sex                     310 non-null    object \n",
            " 6   MaritalDesc             310 non-null    object \n",
            " 7   RaceDesc                310 non-null    object \n",
            " 8   EmploymentStatus        310 non-null    object \n",
            " 9   Department              310 non-null    object \n",
            " 10  RecruitmentSource       310 non-null    object \n",
            " 11  EngagementSurvey        310 non-null    float64\n",
            " 12  EmpSatisfaction         310 non-null    float64\n",
            " 13  SpecialProjectsCount    310 non-null    float64\n",
            "dtypes: float64(7), object(7)\n",
            "memory usage: 44.0+ KB\n"
          ],
          "name": "stdout"
        }
      ]
    },
    {
      "cell_type": "code",
      "metadata": {
        "id": "m1AZfmK7bf8z",
        "colab_type": "code",
        "colab": {
          "base_uri": "https://localhost:8080/",
          "height": 1000
        },
        "outputId": "d602f374-e62b-40ca-b906-1879189b1c15"
      },
      "source": [
        "# encoding our categorical nominal variables \n",
        "HR1 = pd.get_dummies(HR, columns=['Sex', 'Position', 'MaritalDesc', 'RaceDesc',\n",
        "                                 'EmploymentStatus', 'Department', 'RecruitmentSource'])\n",
        "HR1.info()"
      ],
      "execution_count": 16,
      "outputs": [
        {
          "output_type": "stream",
          "text": [
            "<class 'pandas.core.frame.DataFrame'>\n",
            "Int64Index: 310 entries, 0 to 309\n",
            "Data columns (total 86 columns):\n",
            " #   Column                                                    Non-Null Count  Dtype  \n",
            "---  ------                                                    --------------  -----  \n",
            " 0   PerfScoreID                                               310 non-null    float64\n",
            " 1   FromDiversityJobFairID                                    310 non-null    float64\n",
            " 2   PayRate                                                   310 non-null    float64\n",
            " 3   Termd                                                     310 non-null    float64\n",
            " 4   EngagementSurvey                                          310 non-null    float64\n",
            " 5   EmpSatisfaction                                           310 non-null    float64\n",
            " 6   SpecialProjectsCount                                      310 non-null    float64\n",
            " 7   Sex_F                                                     310 non-null    uint8  \n",
            " 8   Sex_M                                                     310 non-null    uint8  \n",
            " 9   Position_Accountant I                                     310 non-null    uint8  \n",
            " 10  Position_Administrative Assistant                         310 non-null    uint8  \n",
            " 11  Position_Area Sales Manager                               310 non-null    uint8  \n",
            " 12  Position_BI Developer                                     310 non-null    uint8  \n",
            " 13  Position_BI Director                                      310 non-null    uint8  \n",
            " 14  Position_CIO                                              310 non-null    uint8  \n",
            " 15  Position_Data Analyst                                     310 non-null    uint8  \n",
            " 16  Position_Data Analyst                                     310 non-null    uint8  \n",
            " 17  Position_Data Architect                                   310 non-null    uint8  \n",
            " 18  Position_Database Administrator                           310 non-null    uint8  \n",
            " 19  Position_Director of Operations                           310 non-null    uint8  \n",
            " 20  Position_Director of Sales                                310 non-null    uint8  \n",
            " 21  Position_Enterprise Architect                             310 non-null    uint8  \n",
            " 22  Position_IT Director                                      310 non-null    uint8  \n",
            " 23  Position_IT Manager - DB                                  310 non-null    uint8  \n",
            " 24  Position_IT Manager - Infra                               310 non-null    uint8  \n",
            " 25  Position_IT Manager - Support                             310 non-null    uint8  \n",
            " 26  Position_IT Support                                       310 non-null    uint8  \n",
            " 27  Position_Network Engineer                                 310 non-null    uint8  \n",
            " 28  Position_President & CEO                                  310 non-null    uint8  \n",
            " 29  Position_Principal Data Architect                         310 non-null    uint8  \n",
            " 30  Position_Production Manager                               310 non-null    uint8  \n",
            " 31  Position_Production Technician I                          310 non-null    uint8  \n",
            " 32  Position_Production Technician II                         310 non-null    uint8  \n",
            " 33  Position_Sales Manager                                    310 non-null    uint8  \n",
            " 34  Position_Senior BI Developer                              310 non-null    uint8  \n",
            " 35  Position_Shared Services Manager                          310 non-null    uint8  \n",
            " 36  Position_Software Engineer                                310 non-null    uint8  \n",
            " 37  Position_Software Engineering Manager                     310 non-null    uint8  \n",
            " 38  Position_Sr. Accountant                                   310 non-null    uint8  \n",
            " 39  Position_Sr. DBA                                          310 non-null    uint8  \n",
            " 40  Position_Sr. Network Engineer                             310 non-null    uint8  \n",
            " 41  MaritalDesc_Divorced                                      310 non-null    uint8  \n",
            " 42  MaritalDesc_Married                                       310 non-null    uint8  \n",
            " 43  MaritalDesc_Separated                                     310 non-null    uint8  \n",
            " 44  MaritalDesc_Single                                        310 non-null    uint8  \n",
            " 45  MaritalDesc_Widowed                                       310 non-null    uint8  \n",
            " 46  RaceDesc_American Indian or Alaska Native                 310 non-null    uint8  \n",
            " 47  RaceDesc_Asian                                            310 non-null    uint8  \n",
            " 48  RaceDesc_Black or African American                        310 non-null    uint8  \n",
            " 49  RaceDesc_Hispanic                                         310 non-null    uint8  \n",
            " 50  RaceDesc_Two or more races                                310 non-null    uint8  \n",
            " 51  RaceDesc_White                                            310 non-null    uint8  \n",
            " 52  EmploymentStatus_Active                                   310 non-null    uint8  \n",
            " 53  EmploymentStatus_Future Start                             310 non-null    uint8  \n",
            " 54  EmploymentStatus_Leave of Absence                         310 non-null    uint8  \n",
            " 55  EmploymentStatus_Terminated for Cause                     310 non-null    uint8  \n",
            " 56  EmploymentStatus_Voluntarily Terminated                   310 non-null    uint8  \n",
            " 57  Department_Admin Offices                                  310 non-null    uint8  \n",
            " 58  Department_Executive Office                               310 non-null    uint8  \n",
            " 59  Department_IT/IS                                          310 non-null    uint8  \n",
            " 60  Department_Production                                     310 non-null    uint8  \n",
            " 61  Department_Sales                                          310 non-null    uint8  \n",
            " 62  Department_Software Engineering                           310 non-null    uint8  \n",
            " 63  RecruitmentSource_Billboard                               310 non-null    uint8  \n",
            " 64  RecruitmentSource_Careerbuilder                           310 non-null    uint8  \n",
            " 65  RecruitmentSource_Company Intranet - Partner              310 non-null    uint8  \n",
            " 66  RecruitmentSource_Diversity Job Fair                      310 non-null    uint8  \n",
            " 67  RecruitmentSource_Employee Referral                       310 non-null    uint8  \n",
            " 68  RecruitmentSource_Glassdoor                               310 non-null    uint8  \n",
            " 69  RecruitmentSource_Indeed                                  310 non-null    uint8  \n",
            " 70  RecruitmentSource_Information Session                     310 non-null    uint8  \n",
            " 71  RecruitmentSource_Internet Search                         310 non-null    uint8  \n",
            " 72  RecruitmentSource_MBTA ads                                310 non-null    uint8  \n",
            " 73  RecruitmentSource_Monster.com                             310 non-null    uint8  \n",
            " 74  RecruitmentSource_Newspager/Magazine                      310 non-null    uint8  \n",
            " 75  RecruitmentSource_On-campus Recruiting                    310 non-null    uint8  \n",
            " 76  RecruitmentSource_On-line Web application                 310 non-null    uint8  \n",
            " 77  RecruitmentSource_Other                                   310 non-null    uint8  \n",
            " 78  RecruitmentSource_Pay Per Click                           310 non-null    uint8  \n",
            " 79  RecruitmentSource_Pay Per Click - Google                  310 non-null    uint8  \n",
            " 80  RecruitmentSource_Professional Society                    310 non-null    uint8  \n",
            " 81  RecruitmentSource_Search Engine - Google Bing Yahoo       310 non-null    uint8  \n",
            " 82  RecruitmentSource_Social Networks - Facebook Twitter etc  310 non-null    uint8  \n",
            " 83  RecruitmentSource_Vendor Referral                         310 non-null    uint8  \n",
            " 84  RecruitmentSource_Website Banner Ads                      310 non-null    uint8  \n",
            " 85  RecruitmentSource_Word of Mouth                           310 non-null    uint8  \n",
            "dtypes: float64(7), uint8(79)\n",
            "memory usage: 43.3 KB\n"
          ],
          "name": "stdout"
        }
      ]
    },
    {
      "cell_type": "code",
      "metadata": {
        "id": "Lu2qT3wObjJN",
        "colab_type": "code",
        "colab": {
          "base_uri": "https://localhost:8080/",
          "height": 51
        },
        "outputId": "c8635cad-0bd0-477e-e7f3-4e5652e836d9"
      },
      "source": [
        "# selecting features columns (x) and response (y)\n",
        "x = HR1.iloc[:,1:].values\n",
        "Y = HR1.iloc[:, 0].values\n",
        "print(x.shape)\n",
        "print(Y.shape)"
      ],
      "execution_count": 17,
      "outputs": [
        {
          "output_type": "stream",
          "text": [
            "(310, 85)\n",
            "(310,)\n"
          ],
          "name": "stdout"
        }
      ]
    },
    {
      "cell_type": "code",
      "metadata": {
        "id": "XrKEuGjlbtdj",
        "colab_type": "code",
        "colab": {}
      },
      "source": [
        "# splitting data into test (25%) and train (75%)\n",
        "x_train, x_test, Y_train, Y_test = train_test_split(x, Y, test_size=0.25, random_state=0)"
      ],
      "execution_count": 18,
      "outputs": []
    },
    {
      "cell_type": "markdown",
      "metadata": {
        "id": "Udu9U2o3MFQp",
        "colab_type": "text"
      },
      "source": [
        "Our response variable is PerfScoreID. It is an ordinal variable with 4 levels: 1 refers to PIP, 2 needs improvement, 3 fully meets, and 4 exceeds."
      ]
    },
    {
      "cell_type": "code",
      "metadata": {
        "id": "eEoAe9ZycAHi",
        "colab_type": "code",
        "colab": {
          "base_uri": "https://localhost:8080/",
          "height": 88
        },
        "outputId": "8a6ac761-e19e-48ed-95a5-535cf995672a"
      },
      "source": [
        "# handling imbalanced classes by oversampling minority class\n",
        "smote = SMOTE('minority')\n",
        "\n",
        "x_sm, Y_sm = smote.fit_sample(x_train, Y_train)\n",
        "print(x_sm.shape, Y_sm.shape)"
      ],
      "execution_count": 19,
      "outputs": [
        {
          "output_type": "stream",
          "text": [
            "(404, 85) (404,)\n"
          ],
          "name": "stdout"
        },
        {
          "output_type": "stream",
          "text": [
            "/usr/local/lib/python3.6/dist-packages/sklearn/utils/deprecation.py:87: FutureWarning: Function safe_indexing is deprecated; safe_indexing is deprecated in version 0.22 and will be removed in version 0.24.\n",
            "  warnings.warn(msg, category=FutureWarning)\n"
          ],
          "name": "stderr"
        }
      ]
    },
    {
      "cell_type": "code",
      "metadata": {
        "id": "Av6Qy10aR6q1",
        "colab_type": "code",
        "colab": {}
      },
      "source": [
        "# scaling features due to different in units\n",
        "from sklearn.preprocessing import StandardScaler\n",
        "ss_X = StandardScaler()\n",
        "ss_x_train = ss_X.fit_transform(x_sm)\n",
        "ss_x_test = ss_X.transform(x_test)"
      ],
      "execution_count": 20,
      "outputs": []
    },
    {
      "cell_type": "markdown",
      "metadata": {
        "id": "1nH_ZO7gcEnM",
        "colab_type": "text"
      },
      "source": [
        "## Random Forest"
      ]
    },
    {
      "cell_type": "code",
      "metadata": {
        "id": "kpZnWeAocG6T",
        "colab_type": "code",
        "colab": {
          "base_uri": "https://localhost:8080/",
          "height": 153
        },
        "outputId": "0cb78596-eabf-4639-ec3d-ac836fbfa260"
      },
      "source": [
        "rf = RandomForestClassifier(n_estimators=10, criterion=\"entropy\", random_state=0)\n",
        "#rf.fit(x_sm, Y_sm)\n",
        "rf.fit(ss_x_train, Y_sm)"
      ],
      "execution_count": 21,
      "outputs": [
        {
          "output_type": "execute_result",
          "data": {
            "text/plain": [
              "RandomForestClassifier(bootstrap=True, ccp_alpha=0.0, class_weight=None,\n",
              "                       criterion='entropy', max_depth=None, max_features='auto',\n",
              "                       max_leaf_nodes=None, max_samples=None,\n",
              "                       min_impurity_decrease=0.0, min_impurity_split=None,\n",
              "                       min_samples_leaf=1, min_samples_split=2,\n",
              "                       min_weight_fraction_leaf=0.0, n_estimators=10,\n",
              "                       n_jobs=None, oob_score=False, random_state=0, verbose=0,\n",
              "                       warm_start=False)"
            ]
          },
          "metadata": {
            "tags": []
          },
          "execution_count": 21
        }
      ]
    },
    {
      "cell_type": "code",
      "metadata": {
        "id": "F8B0SazGcJ1_",
        "colab_type": "code",
        "colab": {}
      },
      "source": [
        "# predictions\n",
        "#rf_pred = rf.predict(x_test)\n",
        "rf_pred = rf.predict(ss_x_test)"
      ],
      "execution_count": 22,
      "outputs": []
    },
    {
      "cell_type": "code",
      "metadata": {
        "id": "luydOw4zcNwp",
        "colab_type": "code",
        "colab": {
          "base_uri": "https://localhost:8080/",
          "height": 347
        },
        "outputId": "784bd595-faf6-4ddf-8746-1018cca24b6a"
      },
      "source": [
        "rf_accuracy = metrics.accuracy_score(Y_test, rf_pred) \n",
        "print(\"Accuracy score:\",rf_accuracy)\n",
        "precision = metrics.precision_score(Y_test, rf_pred, average='micro') \n",
        "print(\"Precision score:\",precision)\n",
        "recall = metrics.recall_score(Y_test, rf_pred, average='micro') \n",
        "print(\"Recall score:\",recall)\n",
        "\n",
        "mat = confusion_matrix(Y_test,rf_pred)\n",
        "sns.heatmap(mat.T, square =True, annot = True, fmt = 'd', cbar= False)\n",
        "plt.xlabel('True Values')\n",
        "plt.ylabel('Predicted Values')"
      ],
      "execution_count": 23,
      "outputs": [
        {
          "output_type": "stream",
          "text": [
            "Accuracy score: 0.8205128205128205\n",
            "Precision score: 0.8205128205128205\n",
            "Recall score: 0.8205128205128205\n"
          ],
          "name": "stdout"
        },
        {
          "output_type": "execute_result",
          "data": {
            "text/plain": [
              "Text(91.68, 0.5, 'Predicted Values')"
            ]
          },
          "metadata": {
            "tags": []
          },
          "execution_count": 23
        },
        {
          "output_type": "display_data",
          "data": {
            "image/png": "[encoded data removed]",
            "text/plain": [
              "<Figure size 432x288 with 1 Axes>"
            ]
          },
          "metadata": {
            "tags": [],
            "needs_background": "light"
          }
        }
      ]
    },
    {
      "cell_type": "markdown",
      "metadata": {
        "id": "CS-uVUk9dP0_",
        "colab_type": "text"
      },
      "source": [
        "## Naive Bayes"
      ]
    },
    {
      "cell_type": "code",
      "metadata": {
        "id": "qpNVNqVndVO2",
        "colab_type": "code",
        "colab": {}
      },
      "source": [
        "#gnb = GaussianNB().fit(x_sm, Y_sm)\n",
        "gnb = GaussianNB().fit(ss_x_train, Y_sm)"
      ],
      "execution_count": 24,
      "outputs": []
    },
    {
      "cell_type": "code",
      "metadata": {
        "id": "78aG0fHadWLm",
        "colab_type": "code",
        "colab": {}
      },
      "source": [
        "#gnb_predictions = gnb.predict(x_test)\n",
        "gnb_predictions = gnb.predict(ss_x_test)"
      ],
      "execution_count": 25,
      "outputs": []
    },
    {
      "cell_type": "code",
      "metadata": {
        "id": "mmSFwixydYgA",
        "colab_type": "code",
        "colab": {
          "base_uri": "https://localhost:8080/",
          "height": 313
        },
        "outputId": "7eea4251-1911-4f6f-996f-714ddff52c81"
      },
      "source": [
        "print('Accuracy Score:', accuracy_score(Y_test, gnb_predictions))\n",
        "mat = confusion_matrix(Y_test,gnb_predictions)\n",
        "sns.heatmap(mat.T, square =True, annot = True, fmt = 'd', cbar= False)\n",
        "plt.xlabel('True Values')\n",
        "plt.ylabel('Predicted Values')"
      ],
      "execution_count": 26,
      "outputs": [
        {
          "output_type": "stream",
          "text": [
            "Accuracy Score: 0.28205128205128205\n"
          ],
          "name": "stdout"
        },
        {
          "output_type": "execute_result",
          "data": {
            "text/plain": [
              "Text(91.68, 0.5, 'Predicted Values')"
            ]
          },
          "metadata": {
            "tags": []
          },
          "execution_count": 26
        },
        {
          "output_type": "display_data",
          "data": {
            "image/png": "[encoded data removed]",
            "text/plain": [
              "<Figure size 432x288 with 1 Axes>"
            ]
          },
          "metadata": {
            "tags": [],
            "needs_background": "light"
          }
        }
      ]
    },
    {
      "cell_type": "markdown",
      "metadata": {
        "id": "INNSM9XydddU",
        "colab_type": "text"
      },
      "source": [
        "## SVM"
      ]
    },
    {
      "cell_type": "code",
      "metadata": {
        "id": "q9NO_WbDdedp",
        "colab_type": "code",
        "colab": {}
      },
      "source": [
        "#svm_model_linear = SVC(kernel = 'linear', C = 1).fit(x_sm, Y_sm) \n",
        "#svm_predictions = svm_model_linear.predict(x_test) \n",
        "svm_model_linear = SVC(kernel = 'linear', C = 1).fit(ss_x_train, Y_sm) \n",
        "svm_predictions = svm_model_linear.predict(ss_x_test) \n",
        "\n",
        "# model accuracy  \n",
        "svm_accuracy = svm_model_linear.score(ss_x_test, Y_test) \n",
        "  \n",
        "# creating a confusion matrix \n",
        "cm = confusion_matrix(Y_test, svm_predictions)"
      ],
      "execution_count": 27,
      "outputs": []
    },
    {
      "cell_type": "code",
      "metadata": {
        "id": "wJsUrMnRdkm2",
        "colab_type": "code",
        "colab": {
          "base_uri": "https://localhost:8080/",
          "height": 313
        },
        "outputId": "478d7a15-ac69-4873-d81c-f8551d196c80"
      },
      "source": [
        "print('Accuracy Score:', svm_accuracy)\n",
        "mat = confusion_matrix(Y_test,svm_predictions)\n",
        "sns.heatmap(mat.T, square =True, annot = True, fmt = 'd', cbar= False)\n",
        "plt.xlabel('True Values')\n",
        "plt.ylabel('Predicted Values')"
      ],
      "execution_count": 28,
      "outputs": [
        {
          "output_type": "stream",
          "text": [
            "Accuracy Score: 0.717948717948718\n"
          ],
          "name": "stdout"
        },
        {
          "output_type": "execute_result",
          "data": {
            "text/plain": [
              "Text(91.68, 0.5, 'Predicted Values')"
            ]
          },
          "metadata": {
            "tags": []
          },
          "execution_count": 28
        },
        {
          "output_type": "display_data",
          "data": {
            "image/png": "[encoded data removed]",
            "text/plain": [
              "<Figure size 432x288 with 1 Axes>"
            ]
          },
          "metadata": {
            "tags": [],
            "needs_background": "light"
          }
        }
      ]
    },
    {
      "cell_type": "markdown",
      "metadata": {
        "id": "_Gq-fIXXdon-",
        "colab_type": "text"
      },
      "source": [
        "## kNN"
      ]
    },
    {
      "cell_type": "code",
      "metadata": {
        "id": "54WhR8dEdwk_",
        "colab_type": "code",
        "colab": {
          "base_uri": "https://localhost:8080/",
          "height": 296
        },
        "outputId": "c7b08418-b391-4565-80a3-bb4cde6404ae"
      },
      "source": [
        "# to check which k gives the highest accuracy\n",
        "k_range = range(1,21)\n",
        "scores = {}\n",
        "scores_list = []\n",
        "for k in k_range:\n",
        "  knn = KNeighborsClassifier(n_neighbors=k)\n",
        "  knn.fit(ss_x_train, Y_sm)\n",
        "  knn_pred=knn.predict(ss_x_test)\n",
        "  scores[k] = metrics.accuracy_score(Y_test, knn_pred)\n",
        "  scores_list.append(metrics.accuracy_score(Y_test, knn_pred))\n",
        "\n",
        "\n",
        "plt.plot(k_range, scores_list)\n",
        "plt.xlabel('Value of K for KNN')\n",
        "plt.ylabel('Testing Accuracy')"
      ],
      "execution_count": 29,
      "outputs": [
        {
          "output_type": "execute_result",
          "data": {
            "text/plain": [
              "Text(0, 0.5, 'Testing Accuracy')"
            ]
          },
          "metadata": {
            "tags": []
          },
          "execution_count": 29
        },
        {
          "output_type": "display_data",
          "data": {
            "image/png": "[encoded data removed]",
            "text/plain": [
              "<Figure size 432x288 with 1 Axes>"
            ]
          },
          "metadata": {
            "tags": [],
            "needs_background": "light"
          }
        }
      ]
    },
    {
      "cell_type": "code",
      "metadata": {
        "id": "vi9JKObHdpjP",
        "colab_type": "code",
        "colab": {}
      },
      "source": [
        " knn = KNeighborsClassifier(n_neighbors = 1).fit(ss_x_train, Y_sm)"
      ],
      "execution_count": 30,
      "outputs": []
    },
    {
      "cell_type": "code",
      "metadata": {
        "id": "nO2GqUiudqkt",
        "colab_type": "code",
        "colab": {
          "base_uri": "https://localhost:8080/",
          "height": 313
        },
        "outputId": "39ad2433-b339-4116-ea8a-8b4cfea93c8d"
      },
      "source": [
        "knn_accuracy = knn.score(ss_x_test, Y_test)\n",
        "knn_predictions = knn.predict(ss_x_test)  \n",
        "print('Accuracy Score:', knn_accuracy)\n",
        "mat = confusion_matrix(Y_test,knn_predictions)\n",
        "sns.heatmap(mat.T, square =True, annot = True, fmt = 'd', cbar= False)\n",
        "plt.xlabel('True Values')\n",
        "plt.ylabel('Predicted Values')"
      ],
      "execution_count": 31,
      "outputs": [
        {
          "output_type": "stream",
          "text": [
            "Accuracy Score: 0.717948717948718\n"
          ],
          "name": "stdout"
        },
        {
          "output_type": "execute_result",
          "data": {
            "text/plain": [
              "Text(91.68, 0.5, 'Predicted Values')"
            ]
          },
          "metadata": {
            "tags": []
          },
          "execution_count": 31
        },
        {
          "output_type": "display_data",
          "data": {
            "image/png": "[encoded data removed]",
            "text/plain": [
              "<Figure size 432x288 with 1 Axes>"
            ]
          },
          "metadata": {
            "tags": [],
            "needs_background": "light"
          }
        }
      ]
    },
    {
      "cell_type": "markdown",
      "metadata": {
        "id": "Raa48mTCX2Dq",
        "colab_type": "text"
      },
      "source": [
        "## Logistic Regression"
      ]
    },
    {
      "cell_type": "code",
      "metadata": {
        "id": "BNcknjQ2X1f0",
        "colab_type": "code",
        "colab": {
          "base_uri": "https://localhost:8080/",
          "height": 102
        },
        "outputId": "9aa2cd74-9beb-4850-f789-fbfe1237e845"
      },
      "source": [
        "from sklearn.linear_model import LogisticRegression\n",
        "logistic_classifier = LogisticRegression(random_state=0, solver=\"liblinear\")\n",
        "logistic_classifier.fit(ss_x_train, Y_sm)"
      ],
      "execution_count": 32,
      "outputs": [
        {
          "output_type": "execute_result",
          "data": {
            "text/plain": [
              "LogisticRegression(C=1.0, class_weight=None, dual=False, fit_intercept=True,\n",
              "                   intercept_scaling=1, l1_ratio=None, max_iter=100,\n",
              "                   multi_class='auto', n_jobs=None, penalty='l2',\n",
              "                   random_state=0, solver='liblinear', tol=0.0001, verbose=0,\n",
              "                   warm_start=False)"
            ]
          },
          "metadata": {
            "tags": []
          },
          "execution_count": 32
        }
      ]
    },
    {
      "cell_type": "code",
      "metadata": {
        "id": "h7Y07hEaZGwh",
        "colab_type": "code",
        "colab": {}
      },
      "source": [
        "logistic_pred = logistic_classifier.predict(ss_x_test)"
      ],
      "execution_count": 33,
      "outputs": []
    },
    {
      "cell_type": "code",
      "metadata": {
        "id": "vTxnejmVaCpI",
        "colab_type": "code",
        "colab": {
          "base_uri": "https://localhost:8080/",
          "height": 347
        },
        "outputId": "97d247ec-7e59-4a4d-8f29-0372cb2cd5f1"
      },
      "source": [
        "logistic_accuracy = metrics.accuracy_score(Y_test, logistic_pred) \n",
        "print(\"Accuracy:\",logistic_accuracy)\n",
        "precision = metrics.precision_score(Y_test, logistic_pred, average='macro') \n",
        "print(\"Precision score:\",precision)\n",
        "recall = metrics.recall_score(Y_test, logistic_pred, average='macro') \n",
        "print(\"Recall score:\",recall)\n",
        "\n",
        "mat = confusion_matrix(Y_test,logistic_pred)\n",
        "sns.heatmap(mat.T, square =True, annot = True, fmt = 'd', cbar= False)\n",
        "plt.xlabel('True Values')\n",
        "plt.ylabel('Predicted Values')"
      ],
      "execution_count": 35,
      "outputs": [
        {
          "output_type": "stream",
          "text": [
            "Accuracy: 0.7307692307692307\n",
            "Precision score: 0.3480392156862745\n",
            "Recall score: 0.4301075268817204\n"
          ],
          "name": "stdout"
        },
        {
          "output_type": "execute_result",
          "data": {
            "text/plain": [
              "Text(91.68, 0.5, 'Predicted Values')"
            ]
          },
          "metadata": {
            "tags": []
          },
          "execution_count": 35
        },
        {
          "output_type": "display_data",
          "data": {
            "image/png": "[encoded data removed]",
            "text/plain": [
              "<Figure size 432x288 with 1 Axes>"
            ]
          },
          "metadata": {
            "tags": [],
            "needs_background": "light"
          }
        }
      ]
    },
    {
      "cell_type": "markdown",
      "metadata": {
        "id": "-Fjf-uUZWTjl",
        "colab_type": "text"
      },
      "source": [
        "# Comparison of Performances Across Models"
      ]
    },
    {
      "cell_type": "code",
      "metadata": {
        "id": "F1zYeTxeWZXz",
        "colab_type": "code",
        "colab": {
          "base_uri": "https://localhost:8080/",
          "height": 204
        },
        "outputId": "be939ad8-eb2d-4e6b-f876-00b125577c00"
      },
      "source": [
        "comparisons = {'Classifier':  ['Random Forest', 'Naive Bayes', 'Support Vector Machine', 'k-Nearest Neighbor', 'Logistic Regression'],\n",
        "        'Accuracy': [rf_accuracy, accuracy_score(Y_test, gnb_predictions), svm_accuracy, knn_accuracy, logistic_accuracy]\n",
        "        }\n",
        "\n",
        "df = pd.DataFrame(comparisons, columns = ['Classifier','Accuracy'])\n",
        "df"
      ],
      "execution_count": 36,
      "outputs": [
        {
          "output_type": "execute_result",
          "data": {
            "text/html": [
              "<div>\n",
              "<style scoped>\n",
              "    .dataframe tbody tr th:only-of-type {\n",
              "        vertical-align: middle;\n",
              "    }\n",
              "\n",
              "    .dataframe tbody tr th {\n",
              "        vertical-align: top;\n",
              "    }\n",
              "\n",
              "    .dataframe thead th {\n",
              "        text-align: right;\n",
              "    }\n",
              "</style>\n",
              "<table border=\"1\" class=\"dataframe\">\n",
              "  <thead>\n",
              "    <tr style=\"text-align: right;\">\n",
              "      <th></th>\n",
              "      <th>Classifier</th>\n",
              "      <th>Accuracy</th>\n",
              "    </tr>\n",
              "  </thead>\n",
              "  <tbody>\n",
              "    <tr>\n",
              "      <th>0</th>\n",
              "      <td>Random Forest</td>\n",
              "      <td>0.820513</td>\n",
              "    </tr>\n",
              "    <tr>\n",
              "      <th>1</th>\n",
              "      <td>Naive Bayes</td>\n",
              "      <td>0.282051</td>\n",
              "    </tr>\n",
              "    <tr>\n",
              "      <th>2</th>\n",
              "      <td>Support Vector Machine</td>\n",
              "      <td>0.717949</td>\n",
              "    </tr>\n",
              "    <tr>\n",
              "      <th>3</th>\n",
              "      <td>k-Nearest Neighbor</td>\n",
              "      <td>0.717949</td>\n",
              "    </tr>\n",
              "    <tr>\n",
              "      <th>4</th>\n",
              "      <td>Logistic Regression</td>\n",
              "      <td>0.730769</td>\n",
              "    </tr>\n",
              "  </tbody>\n",
              "</table>\n",
              "</div>"
            ],
            "text/plain": [
              "               Classifier  Accuracy\n",
              "0           Random Forest  0.820513\n",
              "1             Naive Bayes  0.282051\n",
              "2  Support Vector Machine  0.717949\n",
              "3      k-Nearest Neighbor  0.717949\n",
              "4     Logistic Regression  0.730769"
            ]
          },
          "metadata": {
            "tags": []
          },
          "execution_count": 36
        }
      ]
    }
  ]
}